{
 "cells": [
  {
   "cell_type": "markdown",
   "metadata": {},
   "source": [
    "<center><h1><b><u>Analysis of Graphs</u></b></h1></center>"
   ]
  },
  {
   "cell_type": "markdown",
   "metadata": {},
   "source": [
    "## __Importing Libraries, Classes, and Functions__"
   ]
  },
  {
   "cell_type": "code",
   "execution_count": 116,
   "metadata": {},
   "outputs": [],
   "source": [
    "import numpy as np\n",
    "import matplotlib.pyplot as plt\n",
    "import networkx as nx #focuses on network analysis and graph theory; can create/visualize graphs\n",
    "import inspect #for viewing source code"
   ]
  },
  {
   "cell_type": "code",
   "execution_count": 117,
   "metadata": {},
   "outputs": [],
   "source": [
    "#getsource finds file of Code, start and end lines of def and outputs them\n",
    "source_code = inspect.getsource(nx.Graph)\n",
    "\n",
    "with open('../source.py', 'w') as file:\n",
    "    file.write(source_code)"
   ]
  },
  {
   "cell_type": "markdown",
   "metadata": {},
   "source": [
    "## __Molecular Graph Implementations__"
   ]
  },
  {
   "cell_type": "markdown",
   "metadata": {},
   "source": [
    "### __Useful Method for Debugging__"
   ]
  },
  {
   "cell_type": "code",
   "execution_count": 118,
   "metadata": {},
   "outputs": [],
   "source": [
    "def debug(obj, attribute_name = None):\n",
    "        print(f\"Type of object: {type(obj)}\")\n",
    "\n",
    "        print(f\"Attributes of the object: {obj.__dict__}\") #__attribute__ is special; __dict__ automatically creates\n",
    "        \n",
    "        if attribute_name is not None:\n",
    "            has_attr = hasattr(obj, attribute_name)\n",
    "            print(f\"Has attribute '{attribute_name}': {has_attr}\")\n",
    "            \n",
    "            if has_attr:\n",
    "                print(f\"Value of '{attribute_name}': {getattr(obj, attribute_name)}\")\n",
    "        print()"
   ]
  },
  {
   "cell_type": "markdown",
   "metadata": {},
   "source": [
    "### __Custom One Hot Encoder__"
   ]
  },
  {
   "cell_type": "code",
   "execution_count": 119,
   "metadata": {},
   "outputs": [],
   "source": [
    "class CustomOneHotEncoder:\n",
    "    def __init__(self):\n",
    "        self._categories = None #fit-related attributes not calculated in __init__\n",
    "        self._cat_idx_map = None\n",
    "\n",
    "    def fit(self, categories): #\"learning\" the unique categories\n",
    "        self._categories = sorted(set(categories)) #encoding based lexographically usually; e.g. ['Carbon', 'Hydrogen']\n",
    "        self._col_idx_map = {category: idx for idx, category in enumerate(self._categories)} #Indexing each category for column index {Carbon:0, Hydrogen, 1}\n",
    "    \n",
    "    def transform(self, category):\n",
    "        one_hot = np.zeros(len(self._categories))\n",
    "        one_hot[self._col_idx_map[category]] = 1\n",
    "        return one_hot\n",
    "    \n",
    "    def fit_transform(self, categories): #shows all one hots for the categories\n",
    "        self.fit(categories)\n",
    "        return [self.transform(category) for category in categories]\n"
   ]
  },
  {
   "cell_type": "code",
   "execution_count": 120,
   "metadata": {},
   "outputs": [
    {
     "name": "stdout",
     "output_type": "stream",
     "text": [
      "[1. 0.]\n"
     ]
    }
   ],
   "source": [
    "categories = ['Carbon', 'Hydrogen']\n",
    "_encoder = CustomOneHotEncoder()\n",
    "#encoded_data = encoder.fit_transform(data)\n",
    "_encoder.fit(categories)\n",
    "encoded = _encoder.transform('Carbon') #needs to be list because transform expects 2D array\n",
    "print(encoded)"
   ]
  },
  {
   "cell_type": "markdown",
   "metadata": {},
   "source": [
    "### __Static Matrix Implementation__"
   ]
  },
  {
   "cell_type": "code",
   "execution_count": 121,
   "metadata": {},
   "outputs": [],
   "source": [
    "class GraphMS: #Graph Matrix Static\n",
    "    ATOM_TYPES = ['C', 'H', 'O'] #Carbon, Hydrogen, Oxygen\n",
    "\n",
    "    def __init__(self, max_nodes = 6, max_edges = 12, **global_attributes):\n",
    "        self._max_nodes = max_nodes\n",
    "        self._max_edges = max_edges\n",
    "        self._edge_pair_count = 0\n",
    "        self._adj = np.zeros((max_nodes, max_nodes))\n",
    "        self._node = None \n",
    "        self._edge = None\n",
    "        self._node_indices = {}\n",
    "        self._index_counter = 0\n",
    "        self._graph = global_attributes\n",
    "        self.encoder = CustomOneHotEncoder()\n",
    "\n",
    "    def _create_node_feature_matrix(self):\n",
    "        new_features = len(GraphMS.ATOM_TYPES) + 1  # +1 for non_bonding_valence\n",
    "        self._node = np.zeros((self._max_nodes, new_features)) #Predefined 10 nodes\n",
    "    \n",
    "    def _add_node_features(self, row, non_bonding, atom_type):\n",
    "        one_hot_atom = self.encoder.transform(atom_type) # [0 ...1..0]\n",
    "            \n",
    "        self._node[row, :len(one_hot_atom)] = one_hot_atom  # no looping, vectorized; put that vector in every element of row besides last column\n",
    "        self._node[row, -1] = non_bonding  # last element of row\n",
    "\n",
    "    def add_node(self, **node_attributes):\n",
    "        if self._index_counter < self._max_nodes: #if space for node\n",
    "            node_label = node_attributes['label']\n",
    "            non_bonding = node_attributes['non_bonding_valence']\n",
    "            atom_type = node_attributes['atom']\n",
    "\n",
    "            self._node_indices[node_label] = self._index_counter #index in adj matrix\n",
    "            row = self._index_counter #nth node corresponds to index row of feature matrix\n",
    "\n",
    "            if self._node is None:\n",
    "                self._create_node_feature_matrix()\n",
    "                self.encoder.fit(GraphMS.ATOM_TYPES)  #updates categories and respective column indices\n",
    "            \n",
    "            self._add_node_features(row, non_bonding, atom_type)\n",
    "            \n",
    "            self._index_counter += 1\n",
    "        else:\n",
    "            print(\"Not enough space allocated.\")\n",
    "        \n",
    "    def _check_missing_nodes(self, node1_label, node2_label):\n",
    "        if node1_label not in self._node_indices and node2_label not in self._node_indices:\n",
    "            raise ValueError(f'Missing {node1_label} and {node2_label}')\n",
    "        elif node1_label not in self._node_indices:\n",
    "            raise ValueError(f'Missing {node1_label}')\n",
    "        elif node2_label not in self._node_indices:\n",
    "            raise ValueError(f'Missing {node2_label}')\n",
    "        \n",
    "    \n",
    "    def _add_edge_features(self, edge_features, reverse=False):\n",
    "        if self._edge_pair_count >= self._max_edges/2:\n",
    "            raise ValueError(\"Maximum number of edges reached\")\n",
    "\n",
    "        if not reverse:\n",
    "            row_idx = self._edge_pair_count * 2\n",
    "        else:\n",
    "            row_idx = self._edge_pair_count * 2 + 1 #row index for reverse edge is the one after not reverse\n",
    "        \n",
    "        for col_idx, (attribute, attribute_val) in enumerate(edge_features.items()):\n",
    "            self._edge[row_idx, col_idx] = attribute_val  # bond order\n",
    "\n",
    "        if reverse:\n",
    "            self._edge_pair_count += 1 #every edge is technically adding two\n",
    "\n",
    "    def add_edge(self, node1_label, node2_label, **edge_features):\n",
    "        self._check_missing_nodes(node1_label, node2_label)\n",
    "\n",
    "        i, j = self._node_indices[node1_label], self._node_indices[node2_label]\n",
    "        \n",
    "        self._adj[i, j] = 1 #numpy indexing works like normal matrix; can use [i, j] instead of [i][j]\n",
    "        self._adj[j, i] = 1 #Edge goes both ways for undirected\n",
    "\n",
    "        if self._edge is None:\n",
    "            self._edge = np.zeros((self._max_edges, len(edge_features))) #predefine 10 max edges\n",
    "\n",
    "        self._add_edge_features(edge_features)\n",
    "        self._add_edge_features(edge_features, reverse = True)\n",
    "    \n",
    "    def is_connection(self, i, j):\n",
    "        return self._adj[i, j] == 1\n",
    "    \n",
    "    def to_nx(self):\n",
    "        G = nx.Graph()\n",
    "        \n",
    "        for node_label in self._node_indices:\n",
    "            G.add_node(node_label) #G is using nx methods; adjacency list by default\n",
    "\n",
    "        added_edges = set() #so edges aren't repeatedly added to G\n",
    "        count = 0\n",
    "        for node1, i in self._node_indices.items(): #H1, 0; labels must be unique\n",
    "            for node2, j in self._node_indices.items(): \n",
    "                if self.is_connection(i, j) and (i, j) not in added_edges and (j, i) not in added_edges: #only add if edge not seen\n",
    "                    bond_order = self._edge[(count * 2), 0]\n",
    "                    G.add_edge(node1, node2, bond_order=bond_order)  #don't need to add edge in both directions explicitly\n",
    "                    added_edges.add((i, j))\n",
    "                    added_edges.add((j, i))\n",
    "                    count += 1\n",
    "        \n",
    "        return G\n",
    "    \n",
    "    def visualize(self):\n",
    "        G = self.to_nx()\n",
    "        pos = nx.spring_layout(G) #computes positions of the nodes on the graph so theres as few edge crossings possible and edge are around same length; pos = {label: [x,y], ...}\n",
    "\n",
    "        edges = G.edges(data=True) #[(H1, O, {bond_order: 2}), ...]; can get attributes with methods that go through dicts in each tuple; G._adj contains this info\n",
    "        bond_orders = [attribute_dict['bond_order'] for node1, node2, attribute_dict in edges] #list of the weights\n",
    "\n",
    "        plt.figure(figsize=(6,6))\n",
    "        nx.draw(G, pos, with_labels=True, width = bond_orders, node_color='#ff91af', edge_color='pink', font_size = 9, node_size = 2000) \n",
    "        \n",
    "        edge_labels = nx.get_edge_attributes(G, 'bond_order') #iterates through all the attributedict[bondorder] in _adj; creates {('H1', 'O'): 1, ('H2', 'O'): 1}\n",
    "        nx.draw_networkx_edge_labels(G, pos, edge_labels=edge_labels)\n",
    "\n",
    "    def _print_matrix(self, name, matrix):\n",
    "        print(name)\n",
    "        for row in matrix:\n",
    "            print(\" \".join(str(element) for element in row)) #join method works with any iterable, including generator\n",
    "        print()\n",
    "    \n",
    "    def __str__(self):\n",
    "        print(f'Graph Attributes: {self._graph}')\n",
    "        self._print_matrix(\"Adjacency Matrix:\", self._adj)\n",
    "        self._print_matrix(\"Node Feature Matrix:\", self._node)\n",
    "        self._print_matrix(\"Edge Feature Matrix:\", self._edge)\n",
    "\n",
    "        connections = [] #printing connection of every node\n",
    "        for node1, i in self._node_indices.items():\n",
    "            for node2, j in self._node_indices.items():\n",
    "                ij_connection = self._adj[i, j]\n",
    "                if self.is_connection(i, j):\n",
    "                    connections.append(f\"{node1} -- {node2}, Bond Order: {ij_connection}\")\n",
    "        return \"\\n\".join(connections)"
   ]
  },
  {
   "cell_type": "code",
   "execution_count": 122,
   "metadata": {},
   "outputs": [
    {
     "name": "stdout",
     "output_type": "stream",
     "text": [
      "Graph Attributes: {'name': 'H2O'}\n",
      "Adjacency Matrix:\n",
      "0.0 1.0 0.0 0.0\n",
      "1.0 0.0 1.0 0.0\n",
      "0.0 1.0 0.0 0.0\n",
      "0.0 0.0 0.0 0.0\n",
      "\n",
      "Node Feature Matrix:\n",
      "0.0 1.0 0.0 0.0\n",
      "0.0 0.0 1.0 4.0\n",
      "0.0 1.0 0.0 0.0\n",
      "0.0 0.0 0.0 0.0\n",
      "\n",
      "Edge Feature Matrix:\n",
      "1.0\n",
      "1.0\n",
      "1.0\n",
      "1.0\n",
      "0.0\n",
      "0.0\n",
      "0.0\n",
      "0.0\n",
      "\n",
      "H1 -- O, Bond Order: 1.0\n",
      "O -- H1, Bond Order: 1.0\n",
      "O -- H2, Bond Order: 1.0\n",
      "H2 -- O, Bond Order: 1.0\n"
     ]
    }
   ],
   "source": [
    "graph = GraphMS(max_nodes = 4, max_edges = 8, name=\"H2O\")\n",
    "\n",
    "graph.add_node(label = 'H1', atom = 'H', non_bonding_valence = 0)\n",
    "graph.add_node(label = 'O', atom = 'O', non_bonding_valence = 4)\n",
    "graph.add_node(label = 'H2', atom = 'H', non_bonding_valence = 0)\n",
    "\n",
    "try:\n",
    "    graph.add_edge('H1', 'O', bond_order=1) #or {'bond_order': 1}\n",
    "    graph.add_edge('H2', 'O', bond_order=1)\n",
    "except ValueError as e:\n",
    "    print(e) #quit()/sys.exit(1) not needed\n",
    "\n",
    "print(graph)"
   ]
  },
  {
   "cell_type": "code",
   "execution_count": 123,
   "metadata": {},
   "outputs": [
    {
     "data": {
      "image/png": "[encoded data removed]",
      "text/plain": [
       "<Figure size 600x600 with 1 Axes>"
      ]
     },
     "metadata": {},
     "output_type": "display_data"
    }
   ],
   "source": [
    "graph.visualize()"
   ]
  },
  {
   "cell_type": "markdown",
   "metadata": {},
   "source": [
    "### __Dynamic Matrix Implementation__"
   ]
  },
  {
   "cell_type": "code",
   "execution_count": 124,
   "metadata": {},
   "outputs": [],
   "source": [
    "class GraphMD: # Graph Matrix Dynamic\n",
    "    class Node:\n",
    "        ATOM_TYPES = ['C', 'H', 'O'] # Carbon, Hydrogen, Oxygen\n",
    "        def __init__(self, label, atom_type, non_bonding_valence, encoder):\n",
    "            self._label = label\n",
    "            self._atom_type = atom_type\n",
    "            self._non_bonding_valence = non_bonding_valence\n",
    "            self._encoder = encoder\n",
    "            self._features = None #[one_hot_atom_type   non_bonding]; Feature matrices can be created now once the graph is complete\n",
    "            \n",
    "        def create_feature_vector(self): \n",
    "            one_hot_atom = self._encoder.transform(self._atom_type)\n",
    "            self._features = np.append(one_hot_atom, self._non_bonding_valence) #combines the two into single array\n",
    "\n",
    "    class Edge:\n",
    "        def __init__(self, node1, node2, edge_features):\n",
    "            self._node1 = node1\n",
    "            self._node2 = node2\n",
    "            self._features_dict = edge_features\n",
    "            self._features = None\n",
    "\n",
    "        def create_feature_vector(self):\n",
    "            self._features = np.array(list(self._features_dict.values())) #view object from values can't directly be converted to np; [bond_order]\n",
    "\n",
    "    def __init__(self, max_nodes=6, **global_attributes): #** in function definition -> it packs keyword arguments into a dictionary\n",
    "        self._max_nodes = max_nodes\n",
    "        self._adj = np.zeros((max_nodes, max_nodes))\n",
    "        self._nodes = {} #{node1label: Node1obj}\n",
    "        self._edges = [] #list of edge objects\n",
    "        self.encoder = CustomOneHotEncoder()\n",
    "        self._graph = global_attributes\n",
    "    \n",
    "    def add_node(self, **node_attributes):\n",
    "        if not self._nodes: #if no nodes in graph\n",
    "            self.encoder.fit(GraphMD.Node.ATOM_TYPES) #get categories and indices during graph creation\n",
    "\n",
    "        if len(self._nodes) < self._max_nodes:\n",
    "            node = GraphMD.Node(node_attributes['label'], node_attributes['atom'], node_attributes['non_bonding_valence'], self.encoder)\n",
    "            node.create_feature_vector()\n",
    "            self._nodes[node._label] = node #add node to dict\n",
    "        else:\n",
    "            raise ValueError(\"Not enough node space allocated.\")\n",
    "        \n",
    "\n",
    "    def _check_missing_nodes(self, node1_label, node2_label):\n",
    "        if node1_label not in self._nodes and node2_label not in self._nodes:\n",
    "            raise ValueError(f'Missing {node1_label} and {node2_label}')\n",
    "        elif node1_label not in self._nodes:\n",
    "            raise ValueError(f'Missing {node1_label}')\n",
    "        elif node2_label not in self._nodes:\n",
    "            raise ValueError(f'Missing {node2_label}')\n",
    "    \n",
    "    def add_edge(self, node1_label, node2_label, **edge_features_dict):\n",
    "        self._check_missing_nodes(node1_label, node2_label)\n",
    "\n",
    "        node1 = self._nodes[node1_label]\n",
    "        node2 = self._nodes[node2_label]\n",
    "\n",
    "        node_labels = list(self._nodes.values())\n",
    "        i, j = node_labels.index(node1), node_labels.index(node2) #indices for _adj\n",
    "\n",
    "        #Add edges to adjacency list\n",
    "        self._adj[i, j] = 1\n",
    "        self._adj[j, i] = 1\n",
    "        \n",
    "        #Create features/edge objects\n",
    "        edge = GraphMD.Edge(node1, node2, edge_features_dict) \n",
    "        edge.create_feature_vector()\n",
    "        reverse_edge = GraphMD.Edge(node2, node1, edge_features_dict)\n",
    "        reverse_edge.create_feature_vector()\n",
    "\n",
    "        self._edges.append(edge)\n",
    "        self._edges.append(reverse_edge)\n",
    "    \n",
    "    def is_connection(self, i, j):\n",
    "        return self._adj[i, j] == 1\n",
    "    \n",
    "    def to_nx(self):\n",
    "        G = nx.Graph()\n",
    "        for node_label in self._nodes:\n",
    "            G.add_node(node_label)\n",
    "        \n",
    "        for edge in self._edges:\n",
    "            G.add_edge(edge._node1._label, edge._node2._label, **edge._features_dict) #turns to bond_order=1; #** unpacks in function call\n",
    "        \n",
    "        return G\n",
    "    \n",
    "    def visualize(self):\n",
    "        G = self.to_nx()\n",
    "        pos = nx.spring_layout(G)\n",
    "        edges = G.edges(data=True)\n",
    "        bond_orders = [attribute['bond_order'] for node1, node2, attribute in edges]\n",
    "        \n",
    "        plt.figure(figsize=(6, 6))\n",
    "        nx.draw(G, pos, with_labels=True, width=bond_orders, node_color='#ff91af', edge_color='pink', font_size=9, node_size=2000)\n",
    "        edge_labels = nx.get_edge_attributes(G, 'bond_order')\n",
    "        nx.draw_networkx_edge_labels(G, pos, edge_labels=edge_labels)\n",
    "    \n",
    "    def _print_matrix(self, name, matrix):\n",
    "        print(name)\n",
    "        for row in matrix:\n",
    "            print(\" \".join(str(element) for element in row))\n",
    "        print()\n",
    "    \n",
    "    def __str__(self):\n",
    "        print(f'Graph Attributes: {self._graph}')\n",
    "        self._print_matrix(\"Adjacency Matrix:\", self._adj)\n",
    "        node_features = np.array([node._features for node in self._nodes.values()]) #creating the node feature matrix by combining all node feature vectors\n",
    "        self._print_matrix(\"Node Feature Matrix:\", node_features)\n",
    "        \n",
    "        #Create and print edge feature matrix\n",
    "        num_edge_features = len(self._edges[0]._features)\n",
    "        edge_features = np.zeros((len(self._edges), num_edge_features))\n",
    "        for idx, edge in enumerate(self._edges):\n",
    "            edge_features[idx] = edge._features #replace feature rows with actual features from dict\n",
    "        self._print_matrix(\"Edge Feature Matrix:\", edge_features)\n",
    "        \n",
    "        connections = []\n",
    "        for edge in self._edges:\n",
    "            connections.append(f\"{edge._node1._label} -- {edge._node2._label}, Bond Order: {edge._features_dict['bond_order']}\")\n",
    "        return \"\\n\".join(connections)"
   ]
  },
  {
   "cell_type": "code",
   "execution_count": 125,
   "metadata": {},
   "outputs": [
    {
     "name": "stdout",
     "output_type": "stream",
     "text": [
      "Graph Attributes: {'name': 'H2O'}\n",
      "Adjacency Matrix:\n",
      "0.0 1.0 0.0\n",
      "1.0 0.0 1.0\n",
      "0.0 1.0 0.0\n",
      "\n",
      "Node Feature Matrix:\n",
      "0.0 1.0 0.0 0.0\n",
      "0.0 0.0 1.0 4.0\n",
      "0.0 1.0 0.0 0.0\n",
      "\n",
      "Edge Feature Matrix:\n",
      "1.0\n",
      "1.0\n",
      "1.0\n",
      "1.0\n",
      "\n",
      "H1 -- O, Bond Order: 1\n",
      "O -- H1, Bond Order: 1\n",
      "H2 -- O, Bond Order: 1\n",
      "O -- H2, Bond Order: 1\n"
     ]
    }
   ],
   "source": [
    "water = GraphMD(max_nodes = 3, name=\"H2O\")\n",
    "\n",
    "water.add_node(label = 'H1', atom = 'H', non_bonding_valence = 0)\n",
    "water.add_node(label = 'O', atom = 'O', non_bonding_valence = 4)\n",
    "water.add_node(label = 'H2', atom = 'H', non_bonding_valence = 0)\n",
    "\n",
    "try:\n",
    "    water.add_edge('H1', 'O', bond_order=1) \n",
    "    water.add_edge('H2', 'O', bond_order=1)\n",
    "except ValueError as e:\n",
    "    print(e)\n",
    "\n",
    "print(water)"
   ]
  },
  {
   "cell_type": "code",
   "execution_count": 126,
   "metadata": {},
   "outputs": [
    {
     "data": {
      "image/png": "[encoded data removed]",
      "text/plain": [
       "<Figure size 600x600 with 1 Axes>"
      ]
     },
     "metadata": {},
     "output_type": "display_data"
    }
   ],
   "source": [
    "water.visualize()"
   ]
  },
  {
   "cell_type": "markdown",
   "metadata": {},
   "source": [
    "### __Dictionary Implementation__"
   ]
  },
  {
   "cell_type": "code",
   "execution_count": 18,
   "metadata": {},
   "outputs": [
    {
     "ename": "SyntaxError",
     "evalue": "incomplete input (3018243294.py, line 11)",
     "output_type": "error",
     "traceback": [
      "\u001b[0;36m  Cell \u001b[0;32mIn[18], line 11\u001b[0;36m\u001b[0m\n\u001b[0;31m    def _encode_features():\u001b[0m\n\u001b[0m                           ^\u001b[0m\n\u001b[0;31mSyntaxError\u001b[0m\u001b[0;31m:\u001b[0m incomplete input\n"
     ]
    }
   ],
   "source": [
    "class GraphD:\n",
    "    class Node:\n",
    "        ATOM_TYPE = ['C', 'H', 'O']\n",
    "\n",
    "        def __init__(self, atom_type, non_bonding, encoder):\n",
    "            self.atom_type = atom_type\n",
    "            self.non_bonding = non_bonding\n",
    "            self.encoder = encoder\n",
    "            self.hot_atom = None\n",
    "        \n",
    "        def _encode_features(self):\n",
    "            self.hot_atom = self.encoder.transform(self.atom_type)\n",
    "        \n",
    "    class Edge:\n",
    "        def __init__(self, node1, node2, )\n"
   ]
  }
 ],
 "metadata": {
  "kernelspec": {
   "display_name": "myenv",
   "language": "python",
   "name": "python3"
  },
  "language_info": {
   "codemirror_mode": {
    "name": "ipython",
    "version": 3
   },
   "file_extension": ".py",
   "mimetype": "text/x-python",
   "name": "python",
   "nbconvert_exporter": "python",
   "pygments_lexer": "ipython3",
   "version": "3.10.14"
  }
 },
 "nbformat": 4,
 "nbformat_minor": 2
}
