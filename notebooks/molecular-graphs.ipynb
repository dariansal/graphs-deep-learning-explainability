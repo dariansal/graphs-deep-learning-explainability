{
 "cells": [
  {
   "cell_type": "markdown",
   "metadata": {},
   "source": [
    "<center><h1><b><u>Molecular Graphs</u></b></h1></center>"
   ]
  },
  {
   "cell_type": "markdown",
   "metadata": {},
   "source": [
    "## __Importing Libraries, Classes, and Functions__"
   ]
  },
  {
   "cell_type": "code",
   "execution_count": 76,
   "metadata": {},
   "outputs": [],
   "source": [
    "#Molecular graph from scratch\n",
    "import numpy as np\n",
    "import matplotlib.pyplot as plt\n",
    "import networkx as nx #focuses on network analysis and graph theory; can create/visualize graphs\n",
    "import inspect #for viewing source code\n",
    "import pprint\n",
    "from rdkit import Chem \n",
    "from rdkit.Chem import AllChem, Draw #For visualization\n",
    "\n",
    "#MUTAG\n",
    "import torch\n",
    "from torch_geometric.datasets import TUDataset\n",
    "from torch_geometric.utils import to_networkx"
   ]
  },
  {
   "cell_type": "markdown",
   "metadata": {},
   "source": [
    "## __Viewing Source Code for Educational Purposes__"
   ]
  },
  {
   "cell_type": "code",
   "execution_count": 77,
   "metadata": {},
   "outputs": [],
   "source": [
    "source_code = inspect.getsource(nx.Graph)\n",
    "\n",
    "#with open('../source.py', 'w') as file:\n",
    "    #file.write(source_code)"
   ]
  },
  {
   "cell_type": "markdown",
   "metadata": {},
   "source": [
    "## __Molecular Graph Implementations__"
   ]
  },
  {
   "cell_type": "markdown",
   "metadata": {},
   "source": [
    "### __Useful Method for Debugging__"
   ]
  },
  {
   "cell_type": "code",
   "execution_count": 78,
   "metadata": {},
   "outputs": [],
   "source": [
    "def debug(obj, attribute_name = None):\n",
    "    print(f\"Type of object: {type(obj)}\")\n",
    "\n",
    "    if hasattr(obj, '__dict__'):\n",
    "        print(f\"Attributes of the object: {obj.__dict__}\") #__attribute__ is special; __dict__ automatically creates\n",
    "        \n",
    "    if attribute_name is not None:\n",
    "        has_attr = hasattr(obj, attribute_name)\n",
    "        print(f\"Has attribute '{attribute_name}': {has_attr}\")\n",
    "            \n",
    "        if has_attr:\n",
    "            print(f\"Value of '{attribute_name}': {getattr(obj, attribute_name)}\")\n",
    "    print()"
   ]
  },
  {
   "cell_type": "markdown",
   "metadata": {},
   "source": [
    "### __Custom One Hot Encoder__"
   ]
  },
  {
   "cell_type": "code",
   "execution_count": 79,
   "metadata": {},
   "outputs": [],
   "source": [
    "class CustomOneHotEncoder:\n",
    "    def __init__(self):\n",
    "        self._categories = None #fit-related attributes not calculated in __init__\n",
    "        self._cat_idx_map = None\n",
    "\n",
    "    def fit(self, categories): #\"learning\" the unique categories\n",
    "        self._categories = sorted(set(categories)) #encoding based lexographically usually; e.g. ['Carbon', 'Hydrogen']\n",
    "        self._col_idx_map = {category: idx for idx, category in enumerate(self._categories)} #Indexing each category for column index {Carbon:0, Hydrogen, 1}\n",
    "    \n",
    "    def transform(self, category):\n",
    "        one_hot = np.zeros(len(self._categories))\n",
    "        one_hot[self._col_idx_map[category]] = 1\n",
    "        return one_hot\n",
    "    \n",
    "    def inverse_transform(self, one_hot):\n",
    "        idx = np.argmax(one_hot)  # Returns index of 1 (the max value) in one-hot encoded array\n",
    "        return self._categories[idx]  # Return the category\n",
    "    \n",
    "    def fit_transform(self, categories): #shows all one hots for the categories\n",
    "        self.fit(categories)\n",
    "        return [self.transform(category) for category in categories]\n"
   ]
  },
  {
   "cell_type": "code",
   "execution_count": 80,
   "metadata": {},
   "outputs": [
    {
     "name": "stdout",
     "output_type": "stream",
     "text": [
      "[1. 0.]\n",
      "Carbon\n"
     ]
    }
   ],
   "source": [
    "categories = ['Carbon', 'Hydrogen']\n",
    "_encoder = CustomOneHotEncoder()\n",
    "#encoded_data = encoder.fit_transform(data)\n",
    "_encoder.fit(categories)\n",
    "encoded = _encoder.transform('Carbon') #needs to be list because transform expects 2D array\n",
    "deencoded = _encoder.inverse_transform(encoded)\n",
    "print(encoded)\n",
    "print(deencoded)"
   ]
  },
  {
   "cell_type": "markdown",
   "metadata": {},
   "source": [
    "### __Static Matrix Implementation__"
   ]
  },
  {
   "cell_type": "code",
   "execution_count": 81,
   "metadata": {},
   "outputs": [],
   "source": [
    "class GraphMS: #Graph Matrix Static\n",
    "    ATOM_TYPES = ['C', 'H', 'O'] #Carbon, Hydrogen, Oxygen\n",
    "\n",
    "    def __init__(self, max_nodes = 6, max_edges = 12, **global_attributes):\n",
    "        self._max_nodes = max_nodes\n",
    "        self._max_edges = max_edges\n",
    "        self._edge_pair_count = 0\n",
    "        self._adj = np.zeros((max_nodes, max_nodes))\n",
    "        self._node = None \n",
    "        self._edge = None\n",
    "        self._node_indices = {}\n",
    "        self._index_counter = 0\n",
    "        self._graph = global_attributes\n",
    "        self.encoder = CustomOneHotEncoder()\n",
    "\n",
    "    def _create_node_feature_matrix(self):\n",
    "        new_features = len(GraphMS.ATOM_TYPES) + 1  # +1 for non_bonding_valence\n",
    "        self._node = np.zeros((self._max_nodes, new_features)) #Predefined 10 nodes\n",
    "    \n",
    "    def _add_node_features(self, row, non_bonding, atom_type):\n",
    "        one_hot_atom = self.encoder.transform(atom_type) # [0 ...1..0]\n",
    "            \n",
    "        self._node[row, :len(one_hot_atom)] = one_hot_atom  # no looping, vectorized; put that vector in every element of row besides last column\n",
    "        self._node[row, -1] = non_bonding  # last element of row\n",
    "\n",
    "    def add_node(self, **node_attributes):\n",
    "        if self._index_counter < self._max_nodes: #if space for node\n",
    "            node_label = node_attributes['label']\n",
    "            non_bonding = node_attributes['non_bonding_valence']\n",
    "            atom_type = node_attributes['atom']\n",
    "\n",
    "            self._node_indices[node_label] = self._index_counter #index in adj matrix\n",
    "            row = self._index_counter #nth node corresponds to index row of feature matrix\n",
    "\n",
    "            if self._node is None:\n",
    "                self._create_node_feature_matrix()\n",
    "                self.encoder.fit(GraphMS.ATOM_TYPES)  #updates categories and respective column indices\n",
    "            \n",
    "            self._add_node_features(row, non_bonding, atom_type)\n",
    "            \n",
    "            self._index_counter += 1\n",
    "        else:\n",
    "            print(\"Not enough space allocated.\")\n",
    "        \n",
    "    def _check_missing_nodes(self, node1_label, node2_label):\n",
    "        if node1_label not in self._node_indices and node2_label not in self._node_indices:\n",
    "            raise ValueError(f'Missing {node1_label} and {node2_label}')\n",
    "        elif node1_label not in self._node_indices:\n",
    "            raise ValueError(f'Missing {node1_label}')\n",
    "        elif node2_label not in self._node_indices:\n",
    "            raise ValueError(f'Missing {node2_label}')\n",
    "        \n",
    "    \n",
    "    def _add_edge_features(self, edge_features, reverse=False):\n",
    "        if self._edge_pair_count >= self._max_edges/2:\n",
    "            raise ValueError(\"Maximum number of edges reached\")\n",
    "\n",
    "        if not reverse:\n",
    "            row_idx = self._edge_pair_count * 2\n",
    "        else:\n",
    "            row_idx = self._edge_pair_count * 2 + 1 #row index for reverse edge is the one after not reverse\n",
    "        \n",
    "        for col_idx, (attribute, attribute_val) in enumerate(edge_features.items()):\n",
    "            self._edge[row_idx, col_idx] = attribute_val  # bond order\n",
    "\n",
    "        if reverse:\n",
    "            self._edge_pair_count += 1 #every edge is technically adding two\n",
    "\n",
    "    def add_edge(self, node1_label, node2_label, **edge_features):\n",
    "        self._check_missing_nodes(node1_label, node2_label)\n",
    "\n",
    "        i, j = self._node_indices[node1_label], self._node_indices[node2_label]\n",
    "        \n",
    "        self._adj[i, j] = 1 #numpy indexing works like normal matrix; can use [i, j] instead of [i][j]\n",
    "        self._adj[j, i] = 1 #Edge goes both ways for undirected\n",
    "\n",
    "        if self._edge is None:\n",
    "            self._edge = np.zeros((self._max_edges, len(edge_features))) #predefine 10 max edges\n",
    "\n",
    "        self._add_edge_features(edge_features)\n",
    "        self._add_edge_features(edge_features, reverse = True)\n",
    "    \n",
    "    def is_connection(self, i, j):\n",
    "        return self._adj[i, j] == 1\n",
    "    \n",
    "    def to_nx(self):\n",
    "        G = nx.Graph()\n",
    "        \n",
    "        for node_label in self._node_indices:\n",
    "            G.add_node(node_label) #G is using nx methods; adjacency list by default\n",
    "\n",
    "        added_edges = set() #so edges aren't repeatedly added to G\n",
    "        count = 0\n",
    "        for node1, i in self._node_indices.items(): #H1, 0; labels must be unique\n",
    "            for node2, j in self._node_indices.items(): \n",
    "                if self.is_connection(i, j) and (i, j) not in added_edges and (j, i) not in added_edges: #only add if edge not seen\n",
    "                    bond_order = self._edge[(count * 2), 0]\n",
    "                    G.add_edge(node1, node2, bond_order=bond_order)  #don't need to add edge in both directions explicitly\n",
    "                    added_edges.add((i, j))\n",
    "                    added_edges.add((j, i))\n",
    "                    count += 1\n",
    "        \n",
    "        return G\n",
    "    \n",
    "    def visualize(self):\n",
    "        G = self.to_nx()\n",
    "        pos = nx.spring_layout(G) #computes positions of the nodes on the graph so theres as few edge crossings possible and edge are around same length; pos = {label: [x,y], ...}\n",
    "\n",
    "        edges = G.edges(data=True) #[(H1, O, {bond_order: 2}), ...]; can get attributes with methods that go through dicts in each tuple; G._adj contains this info\n",
    "        bond_orders = [attribute_dict['bond_order'] for node1, node2, attribute_dict in edges] #list of the weights\n",
    "\n",
    "        plt.figure(figsize=(5, 5))\n",
    "        nx.draw(G, pos, with_labels=True, width = bond_orders, node_color='#ff91af', edge_color='pink', font_size = 9, node_size = 2000) \n",
    "        \n",
    "        edge_labels = nx.get_edge_attributes(G, 'bond_order') #iterates through all the attributedict[bondorder] in _adj; creates {('H1', 'O'): 1, ('H2', 'O'): 1}\n",
    "        nx.draw_networkx_edge_labels(G, pos, edge_labels=edge_labels)\n",
    "\n",
    "    @staticmethod\n",
    "    def _print_matrix(name, matrix):\n",
    "        print(name)\n",
    "        for row in matrix:\n",
    "            print(\" \".join(str(element) for element in row))\n",
    "        print()\n",
    "    \n",
    "    def _adjacency_to_edge_index(self):\n",
    "        edge_index_row = [] #alternatively use np.nonzero and np.vstack (vertical stack)\n",
    "        edge_index_col = []\n",
    "\n",
    "        #Find all non zero edges\n",
    "        for i in range(len(self._adj)):\n",
    "            for j in range(len(self._adj[i])):\n",
    "                if self._adj[i][j] == 1:\n",
    "                    edge_index_row.append(i)\n",
    "                    edge_index_col.append(j)\n",
    "   \n",
    "        return np.array([edge_index_row, \n",
    "                         edge_index_col]) #this vertically stacks them\n",
    "\n",
    "    def __str__(self):\n",
    "        print(f'Molecule Attributes: {self._graph}\\n')\n",
    "        self._print_matrix(\"Adjacency Matrix:\", self._adj)\n",
    "\n",
    "        edge_index = self._adjacency_to_edge_index()\n",
    "        self._print_matrix(\"Edge Index:\", edge_index)\n",
    "\n",
    "        self._print_matrix(\"Node Feature Matrix:\", self._node)\n",
    "        self._print_matrix(\"Edge Feature Matrix:\", self._edge)\n",
    "\n",
    "        connections = [] #printing connection of every node\n",
    "        for node1, i in self._node_indices.items():\n",
    "            for node2, j in self._node_indices.items():\n",
    "                ij_connection = self._adj[i, j]\n",
    "                if self.is_connection(i, j):\n",
    "                    connections.append(f\"{node1} -- {node2}, Bond Order: {ij_connection}\")\n",
    "        return \"\\n\".join(connections)"
   ]
  },
  {
   "cell_type": "code",
   "execution_count": 82,
   "metadata": {},
   "outputs": [
    {
     "name": "stdout",
     "output_type": "stream",
     "text": [
      "Molecule Attributes: {'name': 'H2O'}\n",
      "\n",
      "Adjacency Matrix:\n",
      "0.0 1.0 0.0 0.0\n",
      "1.0 0.0 1.0 0.0\n",
      "0.0 1.0 0.0 0.0\n",
      "0.0 0.0 0.0 0.0\n",
      "\n",
      "Edge Index:\n",
      "0 1 1 2\n",
      "1 0 2 1\n",
      "\n",
      "Node Feature Matrix:\n",
      "0.0 1.0 0.0 0.0\n",
      "0.0 0.0 1.0 4.0\n",
      "0.0 1.0 0.0 0.0\n",
      "0.0 0.0 0.0 0.0\n",
      "\n",
      "Edge Feature Matrix:\n",
      "1.0\n",
      "1.0\n",
      "1.0\n",
      "1.0\n",
      "0.0\n",
      "0.0\n",
      "0.0\n",
      "0.0\n",
      "\n",
      "H1 -- O, Bond Order: 1.0\n",
      "O -- H1, Bond Order: 1.0\n",
      "O -- H2, Bond Order: 1.0\n",
      "H2 -- O, Bond Order: 1.0\n"
     ]
    }
   ],
   "source": [
    "graph = GraphMS(max_nodes = 4, max_edges = 8, name=\"H2O\")\n",
    "\n",
    "graph.add_node(label = 'H1', atom = 'H', non_bonding_valence = 0)\n",
    "graph.add_node(label = 'O', atom = 'O', non_bonding_valence = 4)\n",
    "graph.add_node(label = 'H2', atom = 'H', non_bonding_valence = 0)\n",
    "\n",
    "try:\n",
    "    graph.add_edge('H1', 'O', bond_order=1) #or {'bond_order': 1}\n",
    "    graph.add_edge('H2', 'O', bond_order=1)\n",
    "except ValueError as e:\n",
    "    print(e) #quit()/sys.exit(1) not needed\n",
    "\n",
    "print(graph)"
   ]
  },
  {
   "cell_type": "code",
   "execution_count": 83,
   "metadata": {},
   "outputs": [
    {
     "data": {
      "image/png": "[encoded data removed]",
      "text/plain": [
       "<Figure size 500x500 with 1 Axes>"
      ]
     },
     "metadata": {},
     "output_type": "display_data"
    }
   ],
   "source": [
    "graph.visualize()"
   ]
  },
  {
   "cell_type": "markdown",
   "metadata": {},
   "source": [
    "### __Dynamic Matrix Implementation__"
   ]
  },
  {
   "cell_type": "code",
   "execution_count": 84,
   "metadata": {},
   "outputs": [],
   "source": [
    "class GraphMD: # Graph Matrix Dynamic\n",
    "    class Node:\n",
    "        ATOM_TYPES = ['C', 'H', 'O'] # Carbon, Hydrogen, Oxygen\n",
    "        def __init__(self, node_attributes, encoder):\n",
    "            self._label = node_attributes['label']\n",
    "            self._atom_type = node_attributes['atom']\n",
    "            self._non_bonding_valence = node_attributes['non_bonding_valence']\n",
    "            self._encoder = encoder\n",
    "            self._features = None #[one_hot_atom_type   non_bonding]; Feature matrices can be created now once the graph is complete\n",
    "            \n",
    "        def create_feature_vector(self): \n",
    "            one_hot_atom = self._encoder.transform(self._atom_type)\n",
    "            self._features = np.append(one_hot_atom, self._non_bonding_valence) #combines the two into single array\n",
    "\n",
    "    class Edge:\n",
    "        def __init__(self, node1, node2, edge_features):\n",
    "            self._node1 = node1\n",
    "            self._node2 = node2\n",
    "            self._features_dict = edge_features\n",
    "            self._features = None\n",
    "\n",
    "        def create_feature_vector(self):\n",
    "            self._features = np.array(list(self._features_dict.values())) #view object from values can't directly be converted to np; [bond_order]\n",
    "\n",
    "    def __init__(self, max_nodes=6, **global_attributes): #** in function definition -> it packs keyword arguments into a dictionary\n",
    "        self._max_nodes = max_nodes\n",
    "        self._adj = np.zeros((max_nodes, max_nodes))\n",
    "        self._nodes = {} #{node1label: Node1obj}\n",
    "        self._edges = [] #list of edge objects\n",
    "        self.encoder = CustomOneHotEncoder()\n",
    "        self._graph = global_attributes\n",
    "    \n",
    "    def add_node(self, **node_attributes):\n",
    "        if not self._nodes: #if no nodes in graph\n",
    "            self.encoder.fit(GraphMD.Node.ATOM_TYPES) #get categories and indices during graph creation\n",
    "\n",
    "        if len(self._nodes) < self._max_nodes:\n",
    "            node = GraphMD.Node(node_attributes, self.encoder)\n",
    "            node.create_feature_vector()\n",
    "            self._nodes[node._label] = node #add node to dict\n",
    "        else:\n",
    "            raise ValueError(\"Not enough node space allocated.\")\n",
    "        \n",
    "\n",
    "    def _check_missing_nodes(self, node1_label, node2_label):\n",
    "        if node1_label not in self._nodes and node2_label not in self._nodes:\n",
    "            raise ValueError(f'Missing {node1_label} and {node2_label}')\n",
    "        elif node1_label not in self._nodes:\n",
    "            raise ValueError(f'Missing {node1_label}')\n",
    "        elif node2_label not in self._nodes:\n",
    "            raise ValueError(f'Missing {node2_label}')\n",
    "    \n",
    "    def add_edge(self, node1_label, node2_label, **edge_features_dict):\n",
    "        self._check_missing_nodes(node1_label, node2_label)\n",
    "\n",
    "        node1 = self._nodes[node1_label]\n",
    "        node2 = self._nodes[node2_label]\n",
    "\n",
    "        node_labels = list(self._nodes.values())\n",
    "        i, j = node_labels.index(node1), node_labels.index(node2) #indices for _adj\n",
    "\n",
    "        #Add edges to adjacency list\n",
    "        self._adj[i, j] = 1\n",
    "        self._adj[j, i] = 1\n",
    "        \n",
    "        #Create features/edge objects\n",
    "        edge = GraphMD.Edge(node1, node2, edge_features_dict) \n",
    "        edge.create_feature_vector()\n",
    "        reverse_edge = GraphMD.Edge(node2, node1, edge_features_dict)\n",
    "        reverse_edge.create_feature_vector()\n",
    "\n",
    "        self._edges.append(edge)\n",
    "        self._edges.append(reverse_edge)\n",
    "    \n",
    "    def is_connection(self, i, j):\n",
    "        return self._adj[i, j] == 1\n",
    "    \n",
    "    def to_nx(self):\n",
    "        G = nx.Graph()\n",
    "        for node_label in self._nodes:\n",
    "            G.add_node(node_label)\n",
    "        \n",
    "        for edge in self._edges:\n",
    "            G.add_edge(edge._node1._label, edge._node2._label, **edge._features_dict) #turns to bond_order=1; #** unpacks in function call\n",
    "        \n",
    "        return G\n",
    "    \n",
    "    def visualize(self):\n",
    "        G = self.to_nx()\n",
    "        pos = nx.spring_layout(G)\n",
    "        edges = G.edges(data=True)\n",
    "        bond_orders = [attribute['bond_order'] for node1, node2, attribute in edges]\n",
    "        \n",
    "        plt.figure(figsize=(5, 5))\n",
    "        nx.draw(G, pos, with_labels=True, width=bond_orders, node_color='#ff91af', edge_color='pink', font_size=9, node_size=2000)\n",
    "        edge_labels = nx.get_edge_attributes(G, 'bond_order')\n",
    "        nx.draw_networkx_edge_labels(G, pos, edge_labels=edge_labels)\n",
    "    \n",
    "    def _adjacency_to_edge_index(self):\n",
    "        edge_index_row = [] \n",
    "        edge_index_col = []\n",
    "\n",
    "        for i in range(len(self._adj)):\n",
    "            for j in range(len(self._adj[i])):\n",
    "                if self._adj[i][j] == 1:\n",
    "                    edge_index_row.append(i)\n",
    "                    edge_index_col.append(j)\n",
    "   \n",
    "        return np.array([edge_index_row, edge_index_col])\n",
    "    \n",
    "\n",
    "    def to_rdkit_molecule(self):\n",
    "        rdkit_mol = Chem.RWMol() #Read Write Molecule\n",
    "\n",
    "        # Add atoms to RDKit molecule\n",
    "        atom_map = {} #{{'H1': 0, 'O': 1, 'H2': 2}}\n",
    "        for label, node in self._nodes.items():\n",
    "            atom_hot = node._features[0:len(self.encoder._categories)]\n",
    "            atom_type = self.encoder.inverse_transform(atom_hot)\n",
    "            atom_index = rdkit_mol.AddAtom(Chem.Atom(atom_type))\n",
    "            atom_map[label] = atom_index \n",
    "\n",
    "        #Add bonds by finding start and edge indices for bond\n",
    "        added_bonds = set() \n",
    "        for edge in self._edges:\n",
    "            start_idx = atom_map[edge._node1._label] \n",
    "            end_idx = atom_map[edge._node2._label]\n",
    "            bond_ord = self.get_bond_type(edge._features_dict['bond_order'])\n",
    "            bond = (min(start_idx, end_idx), max(start_idx, end_idx)) #ensures same bond not added twice\n",
    "            if bond not in added_bonds: #also prevents repeated bonds\n",
    "                rdkit_mol.AddBond(start_idx, end_idx, bond_ord)\n",
    "                added_bonds.add(bond)\n",
    "                \n",
    "        rdkit_mol = rdkit_mol.GetMol()\n",
    "        AllChem.Compute2DCoords(rdkit_mol)\n",
    "        \n",
    "        return rdkit_mol\n",
    "\n",
    "    @staticmethod\n",
    "    def get_bond_type(bond_order):\n",
    "        if bond_order == 1:\n",
    "            return Chem.BondType.SINGLE\n",
    "        elif bond_order == 2:\n",
    "            return Chem.BondType.DOUBLE\n",
    "        elif bond_order == 3:\n",
    "            return Chem.BondType.TRIPLE\n",
    "        else:\n",
    "            raise ValueError(f\"Unknown bond order: {bond_order}\")\n",
    "    \n",
    "    def visualize_rdkit(self):\n",
    "        mol = self.to_rdkit_molecule()\n",
    "        molecule = Draw.MolToImage(mol) #Converts to PIL object\n",
    "\n",
    "        plt.figure(figsize=(6,6))\n",
    "        plt.axis('off') \n",
    "        plt.imshow(molecule) \n",
    "        plt.show()\n",
    "\n",
    "    @staticmethod\n",
    "    def _print_matrix(name, matrix):\n",
    "        print(name)\n",
    "        for row in matrix:\n",
    "            print(\" \".join(str(element) for element in row))\n",
    "        print()\n",
    "    \n",
    "    def __str__(self):\n",
    "        print(f'Molecule Attributes: {self._graph}\\n')\n",
    "        self._print_matrix(\"Adjacency Matrix:\", self._adj)\n",
    "\n",
    "        edge_index = self._adjacency_to_edge_index()\n",
    "        self._print_matrix(\"Edge Index:\", edge_index)\n",
    "\n",
    "        node_features = np.array([node._features for node in self._nodes.values()]) #creating the node feature matrix by combining all node feature vectors\n",
    "        self._print_matrix(\"Node Feature Matrix:\", node_features)\n",
    "        \n",
    "        #Create and print edge feature matrix\n",
    "        num_edge_features = len(self._edges[0]._features)\n",
    "        edge_features = np.zeros((len(self._edges), num_edge_features))\n",
    "        for idx, edge in enumerate(self._edges):\n",
    "            edge_features[idx] = edge._features #replace feature rows with actual features from dict\n",
    "        self._print_matrix(\"Edge Feature Matrix:\", edge_features)\n",
    "        \n",
    "        connections = []\n",
    "        for edge in self._edges:\n",
    "            connections.append(f\"{edge._node1._label} -- {edge._node2._label}, Bond Order: {edge._features_dict['bond_order']}\")\n",
    "        return \"\\n\".join(connections)"
   ]
  },
  {
   "cell_type": "code",
   "execution_count": 85,
   "metadata": {},
   "outputs": [
    {
     "name": "stdout",
     "output_type": "stream",
     "text": [
      "Molecule Attributes: {'name': 'Methyl'}\n",
      "\n",
      "Adjacency Matrix:\n",
      "0.0 1.0 1.0 1.0 0.0 0.0\n",
      "1.0 0.0 0.0 0.0 0.0 0.0\n",
      "1.0 0.0 0.0 0.0 0.0 0.0\n",
      "1.0 0.0 0.0 0.0 0.0 0.0\n",
      "0.0 0.0 0.0 0.0 0.0 0.0\n",
      "0.0 0.0 0.0 0.0 0.0 0.0\n",
      "\n",
      "Edge Index:\n",
      "0 0 0 1 2 3\n",
      "1 2 3 0 0 0\n",
      "\n",
      "Node Feature Matrix:\n",
      "1.0 0.0 0.0 2.0\n",
      "0.0 1.0 0.0 0.0\n",
      "0.0 1.0 0.0 0.0\n",
      "0.0 1.0 0.0 0.0\n",
      "\n",
      "Edge Feature Matrix:\n",
      "1.0\n",
      "1.0\n",
      "1.0\n",
      "1.0\n",
      "1.0\n",
      "1.0\n",
      "\n",
      "H1 -- C, Bond Order: 1\n",
      "C -- H1, Bond Order: 1\n",
      "H2 -- C, Bond Order: 1\n",
      "C -- H2, Bond Order: 1\n",
      "H3 -- C, Bond Order: 1\n",
      "C -- H3, Bond Order: 1\n"
     ]
    }
   ],
   "source": [
    "methyl = GraphMD(name=\"Methyl\")\n",
    "\n",
    "methyl.add_node(label = 'C', atom = 'C', non_bonding_valence = 2)\n",
    "methyl.add_node(label = 'H1', atom = 'H', non_bonding_valence = 0)\n",
    "methyl.add_node(label = 'H2', atom = 'H', non_bonding_valence = 0)\n",
    "methyl.add_node(label = 'H3', atom = 'H', non_bonding_valence = 0)\n",
    "\n",
    "try:\n",
    "    methyl.add_edge('H1', 'C', bond_order=1)\n",
    "    methyl.add_edge('H2', 'C', bond_order=1)\n",
    "    methyl.add_edge('H3', 'C', bond_order=1)\n",
    "except ValueError as e:\n",
    "    print(e)\n",
    "\n",
    "print(methyl)"
   ]
  },
  {
   "cell_type": "code",
   "execution_count": 86,
   "metadata": {},
   "outputs": [
    {
     "data": {
      "image/png": "[encoded data removed]",
      "text/plain": [
       "<Figure size 500x500 with 1 Axes>"
      ]
     },
     "metadata": {},
     "output_type": "display_data"
    }
   ],
   "source": [
    "methyl.visualize()"
   ]
  },
  {
   "cell_type": "code",
   "execution_count": 87,
   "metadata": {},
   "outputs": [
    {
     "data": {
      "image/png": "[encoded data removed]",
      "text/plain": [
       "<Figure size 600x600 with 1 Axes>"
      ]
     },
     "metadata": {},
     "output_type": "display_data"
    }
   ],
   "source": [
    "methyl.visualize_rdkit()"
   ]
  },
  {
   "cell_type": "markdown",
   "metadata": {},
   "source": [
    "### __Dictionary Implementation__"
   ]
  },
  {
   "cell_type": "code",
   "execution_count": 88,
   "metadata": {},
   "outputs": [],
   "source": [
    "class GraphD:\n",
    "    class Node:\n",
    "        ATOM_TYPE = ['C', 'H', 'O']\n",
    "\n",
    "        _unique_id = 0\n",
    "        \n",
    "        @classmethod\n",
    "        def increment_id(cls):\n",
    "            cls._unique_id += 1\n",
    "\n",
    "        def __init__(self, label, node_features, encoder):\n",
    "            self._label = label\n",
    "            self.atom_type = node_features['atom']\n",
    "            self.non_bonding = node_features['non_bonding_valence']\n",
    "            self.encoder = encoder\n",
    "            self.hot_atom = None\n",
    "            self.feature_dict =  None\n",
    "            \n",
    "            self._unique_id = GraphD.Node._unique_id\n",
    "            GraphD.Node.increment_id()\n",
    "            \n",
    "        def _encode_features(self):\n",
    "            self.hot_atom = self.encoder.transform(self.atom_type)\n",
    "            self.feature_dict = {'label' : self._label, 'atom' : self.hot_atom, 'non_bonding_valence' : self.non_bonding}\n",
    "        \n",
    "    class Edge:\n",
    "        def __init__(self, node1, node2, edge_features):\n",
    "            self._node1 = node1\n",
    "            self._node2 = node2\n",
    "            self._features = edge_features #dictionary\n",
    "    \n",
    "    def __init__(self, **global_attributes):\n",
    "        self._adj = {} #contains edge features\n",
    "        self._node = {} #{id: node features}\n",
    "        self._edges = []\n",
    "        self._graph = global_attributes\n",
    "        self._label_to_id = {}  #for creating edges\n",
    "        self.encoder = CustomOneHotEncoder()\n",
    "\n",
    "    def add_node(self, label, **node_features):\n",
    "        if not self._node:\n",
    "            self.encoder.fit(GraphD.Node.ATOM_TYPE)\n",
    "\n",
    "        if label not in self._node.keys():\n",
    "            node = GraphD.Node(label, node_features, self.encoder)\n",
    "            node._encode_features()\n",
    "            \n",
    "            self._node[node._unique_id] = node.feature_dict\n",
    "            self._adj[node._unique_id] = {} #values of this will be {neighbor: edge attributes}\n",
    "            self._label_to_id[node._label] = node._unique_id\n",
    "    \n",
    "    def _check_missing_nodes(self, node1_label, node2_label):\n",
    "        if node1_label not in self._label_to_id and node2_label not in self._label_to_id:\n",
    "            raise ValueError(f'Missing {node1_label} and {node2_label}')\n",
    "        elif node1_label not in self._label_to_id:\n",
    "            raise ValueError(f'Missing {node1_label}')\n",
    "        elif node2_label not in self._label_to_id:\n",
    "            raise ValueError(f'Missing {node2_label}')\n",
    "   \n",
    "    def add_edge(self, node1_label, node2_label, **bond_order):\n",
    "        self._check_missing_nodes(node1_label, node2_label)\n",
    "\n",
    "        node1_id = self._label_to_id[node1_label]\n",
    "        node2_id = self._label_to_id[node2_label]\n",
    "\n",
    "        node1 = self._node[node1_id]\n",
    "        node2 = self._node[node2_id]\n",
    "\n",
    "        edge = GraphD.Edge(node1, node2, bond_order)\n",
    "        reverse_edge = GraphD.Edge(node2, node1, bond_order)\n",
    "        \n",
    "        self._adj[node1_id][node2_id] = edge._features #only storing features in _adj and _node instead of whole object\n",
    "        self._adj[node2_id][node1_id] = reverse_edge._features\n",
    "\n",
    "        self._edges.append(edge) #for easier printing at end\n",
    "        self._edges.append(reverse_edge)\n",
    "\n",
    "    def to_rdkit_molecule(self):\n",
    "        rdkit_mol = Chem.RWMol()\n",
    "\n",
    "        # Add atoms\n",
    "        for (label, node_features) in self._node.items():\n",
    "            atom_type = self.encoder.inverse_transform(node_features['atom'])\n",
    "            rdkit_mol.AddAtom(Chem.Atom(atom_type)) #atom_type can either be atomic number or symbol \n",
    "\n",
    "        # Add bonds\n",
    "        added_bonds = set()\n",
    "        for edge in self._edges:\n",
    "            start_idx = self._label_to_id[edge._node1['label']] #no need for atom map\n",
    "            end_idx = self._label_to_id[edge._node2['label']]\n",
    "            bond_ord = self.get_bond_type(edge._features['bond_order'])\n",
    "            bond = (min(start_idx, end_idx), max(start_idx, end_idx))\n",
    "            if bond not in added_bonds:\n",
    "                rdkit_mol.AddBond(start_idx, end_idx, bond_ord)\n",
    "                added_bonds.add(bond)\n",
    "        \n",
    "        rdkit_mol = rdkit_mol.GetMol()\n",
    "        AllChem.Compute2DCoords(rdkit_mol) #computes 2D atom coordinates\n",
    "        return rdkit_mol\n",
    "\n",
    "    @staticmethod\n",
    "    def get_bond_type(bond_order):\n",
    "        if bond_order == 1:\n",
    "            return Chem.BondType.SINGLE\n",
    "        elif bond_order == 2:\n",
    "            return Chem.BondType.DOUBLE\n",
    "        elif bond_order == 3:\n",
    "            return Chem.BondType.TRIPLE\n",
    "        else:\n",
    "            raise ValueError(f\"Unknown bond order: {bond_order}\")\n",
    "\n",
    "    def visualize_rdkit(self):\n",
    "        mol = self.to_rdkit_molecule()\n",
    "        molecule = Draw.MolToImage(mol)\n",
    "        \n",
    "        plt.figure(figsize=(6,6))\n",
    "        plt.axis('off') \n",
    "        plt.imshow(molecule) \n",
    "        plt.show()\n",
    "\n",
    "    def to_nx(self):\n",
    "        G = nx.Graph()\n",
    "        for node_features in self._node.values():\n",
    "            G.add_node(node_features['label'])\n",
    "        \n",
    "        for edge in self._edges:\n",
    "            G.add_edge(edge._node1['label'], edge._node2['label'], **edge._features) #turns to bond_order=1; #** unpacks in function call\n",
    "        \n",
    "        return G\n",
    "    \n",
    "    def visualize(self):\n",
    "        G = self.to_nx()\n",
    "        pos = nx.spring_layout(G)\n",
    "        edges = G.edges(data=True)\n",
    "        bond_orders = [attribute['bond_order'] for node1, node2, attribute in edges]\n",
    "        \n",
    "        plt.figure(figsize=(5, 5))\n",
    "        nx.draw(G, pos, with_labels=True, width=bond_orders, node_color='#ff91af', edge_color='pink', font_size=9, node_size=1000)\n",
    "        edge_labels = nx.get_edge_attributes(G, 'bond_order')\n",
    "        nx.draw_networkx_edge_labels(G, pos, edge_labels=edge_labels)\n",
    "        \n",
    "    def __str__(self):\n",
    "        pp = pprint.PrettyPrinter(indent=4)\n",
    "\n",
    "        print(f\"Molecule Attributes:\\n{pp.pformat(self._graph)}\\n\")\n",
    "        print(f\"Atoms:\\n{pp.pformat(self._node)}\\n\")\n",
    "        print(f\"Bonds:\\n{pp.pformat(self._adj)}\\n\")\n",
    "        \n",
    "        print()\n",
    "        connections = []\n",
    "        for edge in self._edges:\n",
    "            connections.append(f\"{edge._node1['label']} -- {edge._node2['label']}, Bond Order: {edge._features['bond_order']}\")\n",
    "        return \"\\n\".join(connections)"
   ]
  },
  {
   "cell_type": "code",
   "execution_count": 89,
   "metadata": {},
   "outputs": [
    {
     "name": "stdout",
     "output_type": "stream",
     "text": [
      "Molecule Attributes:\n",
      "{'name': 'H2O'}\n",
      "\n",
      "Atoms:\n",
      "{   0: {'atom': array([0., 1., 0.]), 'label': 'H1', 'non_bonding_valence': 0},\n",
      "    1: {'atom': array([0., 0., 1.]), 'label': 'O', 'non_bonding_valence': 4},\n",
      "    2: {'atom': array([0., 1., 0.]), 'label': 'H2', 'non_bonding_valence': 0}}\n",
      "\n",
      "Bonds:\n",
      "{   0: {1: {'bond_order': 1}},\n",
      "    1: {0: {'bond_order': 1}, 2: {'bond_order': 1}},\n",
      "    2: {1: {'bond_order': 1}}}\n",
      "\n",
      "\n",
      "H1 -- O, Bond Order: 1\n",
      "O -- H1, Bond Order: 1\n",
      "H2 -- O, Bond Order: 1\n",
      "O -- H2, Bond Order: 1\n"
     ]
    }
   ],
   "source": [
    "water = GraphD(name=\"H2O\")\n",
    "\n",
    "water.add_node(label = 'H1', atom = 'H', non_bonding_valence = 0)\n",
    "water.add_node(label = 'O', atom = 'O', non_bonding_valence = 4)\n",
    "water.add_node(label = 'H2', atom = 'H', non_bonding_valence = 0)\n",
    "\n",
    "try:    \n",
    "    water.add_edge('H1', 'O', bond_order=1) \n",
    "    water.add_edge('H2', 'O', bond_order=1)\n",
    "except ValueError as e:\n",
    "    print(e)\n",
    "\n",
    "print(water)"
   ]
  },
  {
   "cell_type": "code",
   "execution_count": 90,
   "metadata": {},
   "outputs": [
    {
     "data": {
      "image/png": "[encoded data removed]",
      "text/plain": [
       "<Figure size 500x500 with 1 Axes>"
      ]
     },
     "metadata": {},
     "output_type": "display_data"
    }
   ],
   "source": [
    "water.visualize()"
   ]
  },
  {
   "cell_type": "code",
   "execution_count": 91,
   "metadata": {},
   "outputs": [
    {
     "data": {
      "image/png": "[encoded data removed]",
      "text/plain": [
       "<Figure size 600x600 with 1 Axes>"
      ]
     },
     "metadata": {},
     "output_type": "display_data"
    }
   ],
   "source": [
    "water.visualize_rdkit()"
   ]
  },
  {
   "cell_type": "markdown",
   "metadata": {},
   "source": [
    "## __MUTAG__"
   ]
  },
  {
   "cell_type": "markdown",
   "metadata": {},
   "source": [
    "### __Inspecting the Dataset__"
   ]
  },
  {
   "cell_type": "code",
   "execution_count": 92,
   "metadata": {},
   "outputs": [
    {
     "name": "stdout",
     "output_type": "stream",
     "text": [
      "Dataset: MUTAG(188)\n",
      "Number of graphs: 188\n",
      "Number of features: 7\n",
      "Number of classes: 2\n"
     ]
    }
   ],
   "source": [
    "mutag = TUDataset(root='../data', name='MUTAG')\n",
    "\n",
    "# Print dataset information\n",
    "print(f'Dataset: {mutag}') #repr (similar to str) automatically called\n",
    "print(f'Number of graphs: {len(mutag)}')\n",
    "print(f'Number of features: {mutag.num_features}') #including atom type and valence\n",
    "print(f'Number of classes: {mutag.num_classes}') #mutagenic and non-mutagenic"
   ]
  },
  {
   "cell_type": "code",
   "execution_count": 93,
   "metadata": {},
   "outputs": [
    {
     "name": "stdout",
     "output_type": "stream",
     "text": [
      "Data(edge_index=[2, 38], x=[17, 7], edge_attr=[38, 4], y=[1])\n",
      "\n",
      "Node features: \n",
      "tensor([[1., 0., 0., 0., 0., 0., 0.],\n",
      "        [1., 0., 0., 0., 0., 0., 0.],\n",
      "        [1., 0., 0., 0., 0., 0., 0.],\n",
      "        [1., 0., 0., 0., 0., 0., 0.],\n",
      "        [1., 0., 0., 0., 0., 0., 0.],\n",
      "        [1., 0., 0., 0., 0., 0., 0.],\n",
      "        [1., 0., 0., 0., 0., 0., 0.],\n",
      "        [1., 0., 0., 0., 0., 0., 0.],\n",
      "        [1., 0., 0., 0., 0., 0., 0.],\n",
      "        [1., 0., 0., 0., 0., 0., 0.],\n",
      "        [1., 0., 0., 0., 0., 0., 0.],\n",
      "        [1., 0., 0., 0., 0., 0., 0.],\n",
      "        [1., 0., 0., 0., 0., 0., 0.],\n",
      "        [1., 0., 0., 0., 0., 0., 0.],\n",
      "        [0., 1., 0., 0., 0., 0., 0.],\n",
      "        [0., 0., 1., 0., 0., 0., 0.],\n",
      "        [0., 0., 1., 0., 0., 0., 0.]])\n",
      "\n",
      "Shape of node features: torch.Size([17, 7])\n"
     ]
    }
   ],
   "source": [
    "index = 10\n",
    "molecule = mutag[index] #Pytorch Data object that represents graph; contains edge_index, node feature matrix, edge_feature matrix, and the label; Pytorch tensors contain .shape attribute\n",
    "print(f'{molecule}\\n')\n",
    "print(f'Node features: \\n{molecule.x}\\n')\n",
    "print(f'Shape of node features: {molecule.x.shape}')"
   ]
  },
  {
   "cell_type": "markdown",
   "metadata": {},
   "source": [
    "### __Visualizing a Molecule__"
   ]
  },
  {
   "cell_type": "code",
   "execution_count": 71,
   "metadata": {},
   "outputs": [
    {
     "data": {
      "image/png": "[encoded data removed]",
      "text/plain": [
       "<Figure size 600x600 with 1 Axes>"
      ]
     },
     "metadata": {},
     "output_type": "display_data"
    }
   ],
   "source": [
    "G = to_networkx(molecule, to_undirected=True)\n",
    "\n",
    "plt.figure(figsize=(6, 6))\n",
    "pos = nx.spring_layout(G)\n",
    "nx.draw(G, pos, with_labels=True, node_color='#ff91af', edge_color='pink', node_size=1500)"
   ]
  }
 ],
 "metadata": {
  "kernelspec": {
   "display_name": "myenv",
   "language": "python",
   "name": "python3"
  },
  "language_info": {
   "codemirror_mode": {
    "name": "ipython",
    "version": 3
   },
   "file_extension": ".py",
   "mimetype": "text/x-python",
   "name": "python",
   "nbconvert_exporter": "python",
   "pygments_lexer": "ipython3",
   "version": "3.10.14"
  }
 },
 "nbformat": 4,
 "nbformat_minor": 2
}
