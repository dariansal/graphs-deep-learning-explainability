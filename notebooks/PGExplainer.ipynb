{
 "cells": [
  {
   "cell_type": "markdown",
   "metadata": {},
   "source": [
    "<center><h1><b><u>PGExplainer with Custom BA2MOTIF Dataset</u></b></h1></center>"
   ]
  },
  {
   "cell_type": "markdown",
   "metadata": {},
   "source": [
    "## __Importing Libraries, Classes, and Functions__"
   ]
  },
  {
   "cell_type": "code",
   "execution_count": 1,
   "metadata": {},
   "outputs": [],
   "source": [
    "import torch\n",
    "from torch_geometric.utils import to_dense_adj\n",
    "from torch_geometric.utils import is_undirected, degree, to_networkx, from_networkx, to_dense_adj\n",
    "import matplotlib.pyplot as plt\n",
    "\n",
    "#BA2MOTIFS graph from scratch\n",
    "import numpy as np\n",
    "import matplotlib.pyplot as plt\n",
    "import networkx as nx #focuses on network analysis and graph theory; can create/visualize graphs\n",
    "from tqdm import tqdm\n",
    "import pickle\n",
    "import random\n",
    "from dataclasses import dataclass\n",
    "\n",
    "#Classifier\n",
    "import copy\n",
    "import torch.nn as nn\n",
    "from torch.nn import Linear, Sequential\n",
    "import torch_geometric\n",
    "import torch.nn.functional as F\n",
    "from torch_geometric.nn import GCNConv, GINConv, global_max_pool, global_mean_pool"
   ]
  },
  {
   "cell_type": "markdown",
   "metadata": {},
   "source": [
    "## __BA2Motif from Scratch__"
   ]
  },
  {
   "cell_type": "code",
   "execution_count": 2,
   "metadata": {},
   "outputs": [],
   "source": [
    "device = torch.device('cpu')"
   ]
  },
  {
   "cell_type": "code",
   "execution_count": 3,
   "metadata": {},
   "outputs": [],
   "source": [
    "'''Common in Python to group related functions in a module not encapsulated in a class. NodeView node order is correct since dictionary order is \n",
    "by insertion but don't rely on this in an algorithm.'''\n",
    "\n",
    "def create_house_motif():\n",
    "    house = nx.Graph()\n",
    "    house.add_edges_from([ #isomorphically a house, but may not always look like house; 4 nodes in cycle with 2 connected to 5th node\n",
    "        (0, 1), (1, 2), (2, 3), (3, 0),  # square base\n",
    "        (1, 4), (2, 4)  # roof\n",
    "    ])\n",
    "    return house\n",
    "\n",
    "def create_cycle_motif(size):\n",
    "    cycle = nx.Graph()\n",
    "\n",
    "    cycle.add_nodes_from(range(size))\n",
    "    \n",
    "    for i in range(size - 1):\n",
    "        cycle.add_edge(i, i+1)\n",
    "    cycle.add_edge(size - 1, 0) #connect last to first to make cycle\n",
    "    \n",
    "    return cycle\n",
    "\n",
    "\n",
    "#Give all nodes and edges same features, otherwise it's \"cheating\" by labeling the answer; adding features here instead of randomly in class so it is more flexible\n",
    "def add_node_features(G, motif_nodes):\n",
    "    for node in G.nodes():\n",
    "        G.nodes[node]['motif'] = 1\n",
    "\n",
    "def add_edge_features(G, motif_edges):\n",
    "    for u, v in G.edges():\n",
    "        G[u][v]['motif'] = 1\n",
    "\n",
    "\n",
    "def attach_motif(G, motif):\n",
    "    orig_num_nodes = G.number_of_nodes() #len(graph._node)\n",
    "    orig_nodes = list(G.nodes())\n",
    "\n",
    "    motif_node_mapping = {old: orig_num_nodes + map for map, old in enumerate(motif.nodes())} #shifts motif indices by n so it doesn't override current edges\n",
    "    mapped_motif_nodes = motif_node_mapping.values()\n",
    "    \n",
    "    #Create a copy of the motif and add it to existing graph data (still no edge connecting motif to original graph)\n",
    "    G.add_nodes_from(mapped_motif_nodes)\n",
    "\n",
    "    #Map and add edges\n",
    "    motif_edge_mapping = {(u,v): (u + orig_num_nodes, v + orig_num_nodes) for (u, v) in motif.edges()}\n",
    "    mapped_motif_edges = motif_edge_mapping.values()\n",
    "    G.add_edges_from(mapped_motif_edges) \n",
    "    \n",
    "    #Choose attachment point and connect motif\n",
    "    attachment_point = random.choice(orig_nodes) #chooses random element of the list of node id's as attachment point\n",
    "    G.add_edge(attachment_point, orig_num_nodes) #n is first node of motif\n",
    "\n",
    "    #Add features\n",
    "    add_node_features(G, mapped_motif_nodes)\n",
    "    add_edge_features(G, mapped_motif_edges)\n",
    "\n",
    "    return G\n",
    "\n",
    "def generate_ba2motif_dataset(num_graphs, n, m, cycle_size, motif_prob):\n",
    "    dataset = [] #list of graphs\n",
    "    labels = []\n",
    "    \n",
    "    for i in range(num_graphs):\n",
    "        ba_graph = nx.barabasi_albert_graph(n, m)\n",
    "        \n",
    "        if random.random() < motif_prob: #random number from 0-1; works by Law of Large Numbers\n",
    "            motif = create_cycle_motif(cycle_size)\n",
    "            label = 0\n",
    "        else:\n",
    "            motif = create_house_motif()\n",
    "            label = 1  # House motif label is 1\n",
    "        \n",
    "        ba_motif_graph = attach_motif(ba_graph, motif)\n",
    "        \n",
    "        dataset.append(ba_motif_graph)\n",
    "        labels.append(label)\n",
    "    \n",
    "    return dataset, labels"
   ]
  },
  {
   "cell_type": "markdown",
   "metadata": {},
   "source": [
    "### __Creating the Dataset - Function Approach to be Compatible with PGExplainer Code__"
   ]
  },
  {
   "cell_type": "code",
   "execution_count": 4,
   "metadata": {},
   "outputs": [],
   "source": [
    "num_graphs = 1000\n",
    "n = 20\n",
    "m = 1\n",
    "cycle_size = 5"
   ]
  },
  {
   "cell_type": "code",
   "execution_count": 5,
   "metadata": {},
   "outputs": [
    {
     "name": "stderr",
     "output_type": "stream",
     "text": [
      "Creating Dataset: 100%|\u001b[32m██████████████████████████████████\u001b[0m| 1000/1000 [00:00<00:00, 2238.85 Graphs/s]\u001b[0m\n"
     ]
    }
   ],
   "source": [
    "nx_graphs, labels = generate_ba2motif_dataset(num_graphs, n, m, cycle_size, motif_prob = 0.5) #creates nx graphs\n",
    "\n",
    "#Convert to Data objects\n",
    "dataset = []\n",
    "for nx_graph, label in tqdm(zip(nx_graphs, labels), total = len(labels), desc=\"Creating Dataset\", unit = \" Graphs\", colour=\"green\", ncols=100):\n",
    "    data = from_networkx(nx_graph)  # converts networkx to torch Data instance; used debugging to see name and dimensions of data object\n",
    "    \n",
    "    data.x = data.motif.unsqueeze(1).float()  # change shape from 1D tensor to 2D: [num_nodes, 1]\n",
    "    #data.x = torch.ones((data.num_nodes, 1), dtype=torch.float) #Other option if features not created when generating dataset\n",
    "    del data.motif #removes this attribute from namespace, not necessarily memory\n",
    "\n",
    "    #Most GNN don't use edge features\n",
    "    data.edge_attr = data.edge_motif.unsqueeze(1).float()\n",
    "    del data.edge_motif\n",
    "\n",
    "    data.adj = to_dense_adj(data.edge_index)\n",
    "    data.y = torch.tensor([label], dtype=torch.long)\n",
    "    \n",
    "    dataset.append(data)\n",
    "\n",
    "ba2_explain = dataset"
   ]
  },
  {
   "cell_type": "markdown",
   "metadata": {},
   "source": [
    "### __Pickling the Dataset__"
   ]
  },
  {
   "cell_type": "code",
   "execution_count": 6,
   "metadata": {},
   "outputs": [],
   "source": [
    "#with open('../data/ba2-explain.pkl', 'wb') as f:\n",
    "    #pickle.dump(ba2_explain, f)"
   ]
  },
  {
   "cell_type": "code",
   "execution_count": 7,
   "metadata": {},
   "outputs": [],
   "source": [
    "with open('../data/ba2-explain.pkl', 'rb') as f:\n",
    "        ba2_explain = pickle.load(f)"
   ]
  },
  {
   "cell_type": "markdown",
   "metadata": {},
   "source": [
    "### __Loading Pretrained Model__"
   ]
  },
  {
   "cell_type": "code",
   "execution_count": 8,
   "metadata": {},
   "outputs": [],
   "source": [
    "#Altered for compatibilty with PGExplainer\n",
    "class GIN(torch.nn.Module):\n",
    "    def __init__(self, num_features, dropout_rate = 0.2, num_classes = 2, pretrained_model = False):\n",
    "        super(GIN, self).__init__()\n",
    "        self.embedding_size = 16\n",
    "\n",
    "        self.nn1 = Sequential(\n",
    "            Linear(num_features, 32),\n",
    "            nn.ReLU(),\n",
    "            nn.Dropout(p=dropout_rate),\n",
    "            Linear(32, 16),\n",
    "            nn.ReLU())\n",
    "\n",
    "        self.conv1 = GINConv(self.nn1)\n",
    "        self.bn1 = nn.BatchNorm1d(16)\n",
    "\n",
    "        self.nn2 = Sequential(\n",
    "            Linear(16, 16),\n",
    "            nn.ReLU(),\n",
    "            nn.Dropout(p=dropout_rate),\n",
    "            Linear(16, 16),\n",
    "            nn.ReLU())\n",
    "        \n",
    "        self.conv2 = GINConv(self.nn2)\n",
    "        self.bn2 = nn.BatchNorm1d(16)\n",
    "\n",
    "        self.fc1 = Linear(32, num_classes) #2 classes\n",
    "\n",
    "        #Ensure original model isn't altered during fine-tuning\n",
    "        if pretrained_model:\n",
    "            temp = torch.load(f'../models/BA2-Scratch/{pretrained_model}')\n",
    "            cloned_state_dict = copy.deepcopy(temp)\n",
    "            self.load_state_dict(cloned_state_dict)\n",
    "            \n",
    "            \n",
    "            self.freeze_layers()\n",
    "            self.fc1 = Linear(32, 2) #Common to freeze earlier layers; replace desired layer for fine tuning\n",
    "\n",
    "    def freeze_layers(self):\n",
    "        for name, param in self.named_parameters():\n",
    "                param.requires_grad = True if 'fc1' else False # Don't freeze the final layer\n",
    "\n",
    "    def embedding(self, x, edge_index, edge_weights = None):\n",
    "        # Process through GIN layers\n",
    "        x = F.relu(self.bn1(self.conv1(x, edge_index)))\n",
    "        x = F.relu(self.bn2(self.conv2(x, edge_index)))\n",
    "        return x\n",
    "    \n",
    "    def forward(self, x, edge_index, batch = None, edge_weights = None):\n",
    "        x, edge_index = x, edge_index #extracts feature matrix from graph, edge info, batch indices\n",
    "        node_embeddings = self.embedding(x, edge_index) #reduces dimension of nodes and edges\n",
    "\n",
    "        x_max = global_max_pool(node_embeddings, batch)\n",
    "        x_mean = global_mean_pool(node_embeddings, batch)\n",
    "        x = torch.cat([x_max, x_mean], dim=1) #combines these two poolings into single tensor\n",
    "\n",
    "        return self.fc1(x)"
   ]
  },
  {
   "cell_type": "code",
   "execution_count": 9,
   "metadata": {},
   "outputs": [],
   "source": [
    "def load_model(filename):\n",
    "    model = GIN(num_features=1)\n",
    "    model.load_state_dict(torch.load(f'../models/BA2-Scratch/{filename}', weights_only=True))\n",
    "    model.eval()\n",
    "    model = model.to(device)\n",
    "    return model"
   ]
  },
  {
   "cell_type": "code",
   "execution_count": 10,
   "metadata": {},
   "outputs": [],
   "source": [
    "def load_model(filename):\n",
    "    model = GIN(num_features=1)\n",
    "    model.load_state_dict(torch.load(f'../models/BA2-Scratch/{filename}', weights_only=True))\n",
    "    model.eval()\n",
    "    model = model.to(device)\n",
    "    return model\n",
    "\n",
    "aug_filename = \"GIN-aug-fine-tuned-100.pth\"\n",
    "model = load_model(aug_filename)"
   ]
  },
  {
   "cell_type": "code",
   "execution_count": 11,
   "metadata": {},
   "outputs": [
    {
     "data": {
      "text/plain": [
       "1000"
      ]
     },
     "execution_count": 11,
     "metadata": {},
     "output_type": "execute_result"
    }
   ],
   "source": [
    "len(ba2_explain)"
   ]
  },
  {
   "cell_type": "code",
   "execution_count": 12,
   "metadata": {},
   "outputs": [],
   "source": [
    "def evaluate(model, dataset):\n",
    "    model.eval()\n",
    "\n",
    "    correct = 0\n",
    "    for data in dataset:\n",
    "        with torch.no_grad():\n",
    "            out = model(data.x, data.edge_index, data.batch)\n",
    "            pred = out.argmax(dim=1)\n",
    "            correct+=1\n",
    "    \n",
    "    return correct / len(dataset)"
   ]
  },
  {
   "cell_type": "code",
   "execution_count": 13,
   "metadata": {},
   "outputs": [
    {
     "name": "stdout",
     "output_type": "stream",
     "text": [
      "Test Accuracy: 100.00%\n"
     ]
    }
   ],
   "source": [
    "# Usage\n",
    "model = model.to(device)  # Ensure your model is on the correct device\n",
    "accuracy = evaluate(model, ba2_explain)\n",
    "print(f\"Test Accuracy: {accuracy*100:.2f}%\")"
   ]
  },
  {
   "cell_type": "markdown",
   "metadata": {},
   "source": [
    "## __Explaining the Model__"
   ]
  },
  {
   "cell_type": "code",
   "execution_count": 14,
   "metadata": {},
   "outputs": [],
   "source": [
    "import os\n",
    "import sys\n",
    "\n",
    "current_dir = os.getcwd()\n",
    "\n",
    "src_dir = os.path.join(current_dir, '..', 'PGExplain/') #pathtocurrentdir/../src\n",
    "sys.path.append(src_dir) #adds to list of strings that Python checks to import module; resets everytime you restart kernel"
   ]
  },
  {
   "cell_type": "markdown",
   "metadata": {},
   "source": [
    "### __Loading the Dataset in Compatible Manner__"
   ]
  },
  {
   "cell_type": "code",
   "execution_count": 15,
   "metadata": {},
   "outputs": [
    {
     "name": "stdout",
     "output_type": "stream",
     "text": [
      "Loading ba2 dataset\n",
      "Shape of edge index: torch.Size([2, 52])\n"
     ]
    }
   ],
   "source": [
    "from ExplanationEvaluation.datasets.dataset_loaders import load_dataset\n",
    "\n",
    "#graphs is edge index\n",
    "graphs, features, labels, _, _, _ = load_dataset('ba2')\n",
    "\n",
    "features = torch.tensor(features)\n",
    "labels = [torch.tensor(label) for label in labels]\n",
    "#labels = torch.tensor(labels)\n",
    "\n",
    "#graphs = [torch.tensor(graph) for graph in graphs]\n",
    "print(f'Shape of edge index: {graphs[4].shape}')"
   ]
  },
  {
   "cell_type": "markdown",
   "metadata": {},
   "source": [
    "### __Loading Pretrained Model__"
   ]
  },
  {
   "cell_type": "code",
   "execution_count": 16,
   "metadata": {},
   "outputs": [],
   "source": [
    "#Use altered GIN class that was added for compatibility\n",
    "from ExplanationEvaluation.models.GIN import GIN\n",
    "\n",
    "device = torch.device('cpu')\n",
    "def load_model(filename):\n",
    "    model = GIN(num_features=1)\n",
    "    model.load_state_dict(torch.load(f'../models/BA2-Scratch/{filename}', weights_only=True))\n",
    "    model.eval()\n",
    "    model = model.to(device)\n",
    "    return model\n",
    "\n",
    "aug_filename = \"GIN-aug-fine-tuned-100.pth\"\n",
    "model = load_model(aug_filename)"
   ]
  },
  {
   "cell_type": "markdown",
   "metadata": {},
   "source": [
    "### __Train PGExplainer__"
   ]
  },
  {
   "cell_type": "code",
   "execution_count": 17,
   "metadata": {},
   "outputs": [],
   "source": [
    "from ExplanationEvaluation.explainers.PGExplainer import PGExplainer\n",
    "explainer = PGExplainer(model, graphs, features, task = \"graph\", epochs = 40)\n",
    "\n",
    "\n",
    "#Uses training process detailed in notes.pdf\n",
    "indices = range(0, 800)\n",
    "\n",
    "#Train the explainer\n",
    "#explainer.prepare(indices)"
   ]
  },
  {
   "cell_type": "code",
   "execution_count": 18,
   "metadata": {},
   "outputs": [],
   "source": [
    "#with open('../models/PGExplainer-fine-tuned-GIN.pkl', 'wb') as f:\n",
    "    #pickle.dump(explainer, f)"
   ]
  },
  {
   "cell_type": "code",
   "execution_count": 19,
   "metadata": {},
   "outputs": [],
   "source": [
    "with open('../models/PGExplainer/explainer-fine-tuned-GIN.pkl', 'rb') as f:\n",
    "        explainer = pickle.load(f)"
   ]
  },
  {
   "cell_type": "markdown",
   "metadata": {},
   "source": [
    "### __Inference__"
   ]
  },
  {
   "cell_type": "code",
   "execution_count": 20,
   "metadata": {},
   "outputs": [],
   "source": [
    "idx = indices[27] #must be from training\n",
    "edge_index, expl = explainer.explain(idx)"
   ]
  },
  {
   "cell_type": "markdown",
   "metadata": {},
   "source": [
    "#### __Visualizing the Graph__"
   ]
  },
  {
   "cell_type": "code",
   "execution_count": 21,
   "metadata": {},
   "outputs": [
    {
     "data": {
      "image/png": "[encoded data removed]",
      "text/plain": [
       "<Figure size 1000x400 with 1 Axes>"
      ]
     },
     "metadata": {},
     "output_type": "display_data"
    }
   ],
   "source": [
    "# Add edges to the graph\n",
    "G = nx.Graph()\n",
    "\n",
    "for i in range(edge_index.shape[1]):\n",
    "    G.add_edge(edge_index[0, i].item(), edge_index[1, i].item())\n",
    "\n",
    "# Set up the plot\n",
    "plt.figure(figsize=(10, 4))\n",
    "\n",
    "# Draw the graph\n",
    "pos = nx.spring_layout(G)\n",
    "nx.draw(G, pos, with_labels=True, node_color='lightblue', \n",
    "        node_size=500, font_size=10, font_weight='bold')\n",
    "\n",
    "_ = plt.axis('off')"
   ]
  },
  {
   "cell_type": "markdown",
   "metadata": {},
   "source": [
    "### __Feeding through GIN__"
   ]
  },
  {
   "cell_type": "code",
   "execution_count": 22,
   "metadata": {},
   "outputs": [
    {
     "name": "stdout",
     "output_type": "stream",
     "text": [
      "Predicted Motif: House\n"
     ]
    }
   ],
   "source": [
    "out = model(features[810], edge_index) #edge_index is dataset[idx].edge_index\n",
    "pred = out.argmax(dim=1).item()\n",
    "\n",
    "label = \"House\" if pred == 1 else \"Cycle\"\n",
    "print(f\"Predicted Motif: {label}\")"
   ]
  },
  {
   "cell_type": "markdown",
   "metadata": {},
   "source": [
    "#### __Visualizing the Explanation Subgraph__"
   ]
  },
  {
   "cell_type": "code",
   "execution_count": 23,
   "metadata": {},
   "outputs": [
    {
     "data": {
      "image/png": "[encoded data removed]",
      "text/plain": [
       "<Figure size 640x480 with 1 Axes>"
      ]
     },
     "metadata": {},
     "output_type": "display_data"
    }
   ],
   "source": [
    "from ExplanationEvaluation.utils.plotting import plot\n",
    "plot(edge_index, expl, labels, 20, 52, 10, 'ba2', show=True)\n",
    "#Attachment point is highlighted"
   ]
  },
  {
   "cell_type": "code",
   "execution_count": 24,
   "metadata": {},
   "outputs": [
    {
     "name": "stdout",
     "output_type": "stream",
     "text": [
      "Label: House\n"
     ]
    }
   ],
   "source": [
    "label = \"House\" if labels[idx] == 1 else \"Cycle\"\n",
    "print(f\"Label: {label}\")"
   ]
  },
  {
   "cell_type": "code",
   "execution_count": 25,
   "metadata": {},
   "outputs": [
    {
     "name": "stdout",
     "output_type": "stream",
     "text": [
      "Edge Weights:\n",
      "tensor([9.4209e-03, 4.4736e-04, 5.0818e-03, 9.4125e-03, 9.4125e-03, 9.4209e-03,\n",
      "        1.1695e-02, 1.6603e-01, 4.0086e-04, 3.5611e-03, 3.4534e-03, 3.4534e-03,\n",
      "        3.4534e-03, 3.4534e-03, 4.3874e-03, 6.3040e-03, 9.6132e-02, 9.6132e-02,\n",
      "        9.6132e-02, 4.9308e-03, 1.2444e-01, 9.5842e-02, 4.7737e-03, 1.1685e-02,\n",
      "        4.7737e-03, 1.6501e-01, 4.7737e-03, 9.5842e-02, 2.0884e-01, 1.2381e-01,\n",
      "        4.7737e-03, 6.0852e-03, 3.3097e-08, 9.5842e-02, 1.1685e-02, 2.0884e-01,\n",
      "        1.1695e-02, 1.6603e-01, 1.6501e-01, 4.8736e-21, 1.6416e-14, 9.0691e-09,\n",
      "        1.6219e-22, 1.6219e-22, 1.0484e-21, 4.8736e-21, 1.6416e-14, 1.6416e-14,\n",
      "        2.1088e-14, 2.1088e-14, 4.0497e-20, 2.1088e-14],\n",
      "       grad_fn=<IndexPutBackward0>)\n"
     ]
    }
   ],
   "source": [
    "print(f\"Edge Weights:\\n{expl}\")"
   ]
  }
 ],
 "metadata": {
  "kernelspec": {
   "display_name": "myenv",
   "language": "python",
   "name": "python3"
  },
  "language_info": {
   "codemirror_mode": {
    "name": "ipython",
    "version": 3
   },
   "file_extension": ".py",
   "mimetype": "text/x-python",
   "name": "python",
   "nbconvert_exporter": "python",
   "pygments_lexer": "ipython3",
   "version": "3.10.14"
  }
 },
 "nbformat": 4,
 "nbformat_minor": 2
}
