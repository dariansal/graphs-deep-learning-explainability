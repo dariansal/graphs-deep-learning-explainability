{
 "cells": [
  {
   "cell_type": "markdown",
   "metadata": {},
   "source": [
    "<center><h1><b><u>Analysis of Graphs</u></b></h1></center>"
   ]
  },
  {
   "cell_type": "markdown",
   "metadata": {},
   "source": [
    "## __Importing Libraries, Classes, and Functions__"
   ]
  },
  {
   "cell_type": "code",
   "execution_count": 38,
   "metadata": {},
   "outputs": [],
   "source": [
    "import numpy as np\n",
    "import matplotlib.pyplot as plt\n",
    "import networkx as nx #focuses on network analysis and graph theory; can create/visualize graphs\n",
    "import inspect #for viewing source code"
   ]
  },
  {
   "cell_type": "code",
   "execution_count": 290,
   "metadata": {},
   "outputs": [],
   "source": [
    "#getsource finds file of Code, start and end lines of def and outputs them\n",
    "source_code = inspect.getsource(nx.Graph)\n",
    "\n",
    "#with open('../source.py', 'w') as file:\n",
    "    #file.write(source_code)"
   ]
  },
  {
   "cell_type": "markdown",
   "metadata": {},
   "source": [
    "## __Undirected Graph Implementations__"
   ]
  },
  {
   "cell_type": "markdown",
   "metadata": {},
   "source": [
    "### __Custom One Hot Encoder__"
   ]
  },
  {
   "cell_type": "code",
   "execution_count": 40,
   "metadata": {},
   "outputs": [],
   "source": [
    "class CustomOneHotEncoder:\n",
    "    def __init__(self):\n",
    "        self._categories = None #fit-related attributes not calculated in __init__\n",
    "        self._cat_idx_map = None\n",
    "\n",
    "    def fit(self, categories): #\"learning\" the unique categories\n",
    "        self._categories = sorted(set(categories)) #encoding based lexographically usually; e.g. ['Carbon', 'Hydrogen']\n",
    "        self._col_idx_map = {category: idx for idx, category in enumerate(self._categories)} #Indexing each category for column index {Carbon:0, Hydrogen, 1}\n",
    "    \n",
    "    def transform(self, category):\n",
    "        one_hot = np.zeros(len(self._categories))\n",
    "        one_hot[self._col_idx_map[category]] = 1\n",
    "        return one_hot\n",
    "    \n",
    "    def fit_transform(self, categories):\n",
    "        self.fit(categories)\n",
    "        return [self.transform(category) for category in categories]\n"
   ]
  },
  {
   "cell_type": "code",
   "execution_count": 413,
   "metadata": {},
   "outputs": [
    {
     "name": "stdout",
     "output_type": "stream",
     "text": [
      "[1. 0.]\n"
     ]
    }
   ],
   "source": [
    "categories = ['Carbon', 'Hydrogen']\n",
    "encoder = CustomOneHotEncoder()\n",
    "#encoded_data = encoder.fit_transform(data)\n",
    "encoder.fit(categories)\n",
    "encoded = encoder.transform('Carbon') #needs to be list because transform expects 2D array\n",
    "print(encoded)"
   ]
  },
  {
   "cell_type": "markdown",
   "metadata": {},
   "source": [
    "### __Static Matrix Implementation__"
   ]
  },
  {
   "cell_type": "code",
   "execution_count": 45,
   "metadata": {},
   "outputs": [],
   "source": [
    "class GraphMS: #Graph Matrix Static\n",
    "    ATOM_TYPES = ['C', 'H', 'O'] #Carbon, Hydrogen, Oxygen\n",
    "\n",
    "    def __init__(self, max_nodes = 6, max_edges = 12, **global_attributes):\n",
    "        self._max_nodes = max_nodes\n",
    "        self._max_edges = max_edges\n",
    "        self._edge_pair_count = 0\n",
    "        self._adj = np.zeros((max_nodes, max_nodes))\n",
    "        self._node = None \n",
    "        self._edge = None\n",
    "        self._node_indices = {}\n",
    "        self._index_counter = 0\n",
    "        self._graph = global_attributes\n",
    "        self.encoder = CustomOneHotEncoder()\n",
    "\n",
    "    def _create_node_feature_matrix(self):\n",
    "        new_features = len(GraphMS.ATOM_TYPES) + 1  # +1 for non_bonding_valence\n",
    "        self._node = np.zeros((self._max_nodes, new_features)) #Predefined 10 nodes\n",
    "    \n",
    "    def _add_node_features(self, row, non_bonding, atom_type):\n",
    "        one_hot_atom = self.encoder.transform(atom_type) # [0 ...1..0]\n",
    "            \n",
    "        self._node[row, :len(one_hot_atom)] = one_hot_atom  # no looping, vectorized; put that vector in every element of row besides last column\n",
    "        self._node[row, -1] = non_bonding  # last element of row\n",
    "\n",
    "    def add_node(self, node_attributes):\n",
    "        if self._index_counter < self._max_nodes: #if space for node\n",
    "            node_label = node_attributes['label']\n",
    "            non_bonding = node_attributes['non_bonding_valence']\n",
    "            atom_type = node_attributes['atom']\n",
    "\n",
    "            self._node_indices[node_label] = self._index_counter #index in adj matrix\n",
    "            row = self._index_counter #nth node corresponds to index row of feature matrix\n",
    "\n",
    "            if self._node is None:\n",
    "                self._create_node_feature_matrix()\n",
    "                self.encoder.fit(GraphMS.ATOM_TYPES)  #updates categories and respective column indices\n",
    "            \n",
    "            self._add_node_features(row, non_bonding, atom_type)\n",
    "            \n",
    "            self._index_counter += 1\n",
    "        else:\n",
    "            print(\"Not enough space allocated.\")\n",
    "        \n",
    "    def _check_missing_nodes(self, node1_label, node2_label):\n",
    "        if node1_label not in self._node_indices and node2_label not in self._node_indices:\n",
    "            raise ValueError(f'Missing {node1_label} and {node2_label}')\n",
    "        elif node1_label not in self._node_indices:\n",
    "            raise ValueError(f'Missing {node1_label}')\n",
    "        elif node2_label not in self._node_indices:\n",
    "            raise ValueError(f'Missing {node2_label}')\n",
    "        \n",
    "    \n",
    "    def _add_edge_features(self, edge_features, reverse=False):\n",
    "        if self._edge_pair_count >= self._max_edges/2:\n",
    "            raise ValueError(\"Maximum number of edges reached\")\n",
    "\n",
    "        if not reverse:\n",
    "            row_idx = self._edge_pair_count * 2\n",
    "        else:\n",
    "            row_idx = self._edge_pair_count * 2 + 1 #row index for reverse edge is the one after not reverse\n",
    "        \n",
    "        for col_idx, (attribute, attribute_val) in enumerate(edge_features.items()):\n",
    "            self._edge[row_idx, col_idx] = attribute_val  # bond order\n",
    "\n",
    "        if reverse:\n",
    "            self._edge_pair_count += 1 #every edge is technically adding two\n",
    "\n",
    "    def add_edge(self, node1_label, node2_label, edge_features):\n",
    "        self._check_missing_nodes(node1_label, node2_label)\n",
    "\n",
    "        i, j = self._node_indices[node1_label], self._node_indices[node2_label]\n",
    "        \n",
    "        self._adj[i, j] = 1 #numpy indexing works like normal matrix; can use [i, j] instead of [i][j]\n",
    "        self._adj[j, i] = 1 #Edge goes both ways for undirected\n",
    "\n",
    "        if self._edge is None:\n",
    "            self._edge = np.zeros((self._max_edges, len(edge_features))) #predefine 10 max edges\n",
    "\n",
    "        self._add_edge_features(edge_features)\n",
    "        self._add_edge_features(edge_features, reverse = True)\n",
    "    \n",
    "    def is_connection(self, i, j):\n",
    "        return self._adj[i, j] == 1\n",
    "    \n",
    "    def to_nx(self):\n",
    "        G = nx.Graph()\n",
    "        \n",
    "        for node_label in self._node_indices:\n",
    "            G.add_node(node_label) #G is using nx methods; adjacency list by default\n",
    "\n",
    "        added_edges = set() #so edges aren't repeatedly added to G\n",
    "        count = 0\n",
    "        for node1, i in self._node_indices.items(): #H1, 0; labels must be unique\n",
    "            for node2, j in self._node_indices.items(): \n",
    "                if self.is_connection(i, j) and (i, j) not in added_edges and (j, i) not in added_edges: #only add if edge not seen\n",
    "                    bond_order = self._edge[(count * 2), 0]\n",
    "                    G.add_edge(node1, node2, bond_order=bond_order)  #don't need to add edge in both directions explicitly\n",
    "                    added_edges.add((i, j))\n",
    "                    added_edges.add((j, i))\n",
    "                    count += 1\n",
    "        \n",
    "        return G\n",
    "    \n",
    "    def visualize(self):\n",
    "        G = self.to_nx()\n",
    "        pos = nx.spring_layout(G) #computes positions of the nodes on the graph so theres as few edge crossings possible and edge are around same length; pos = {label: [x,y], ...}\n",
    "\n",
    "        edges = G.edges(data=True) #[(H1, O, {bond_order: 2}), ...]; can get attributes with methods that go through dicts in each tuple; G._adj contains this info\n",
    "        bond_orders = [attribute_dict['bond_order'] for node1, node2, attribute_dict in edges] #list of the weights\n",
    "\n",
    "        plt.figure(figsize=(6,6))\n",
    "        nx.draw(G, pos, with_labels=True, width = bond_orders, node_color='#ff91af', edge_color='pink', font_size = 9, node_size = 2000) \n",
    "        \n",
    "        edge_labels = nx.get_edge_attributes(G, 'bond_order') #iterates through all the attributedict[bondorder] in _adj; creates {('H1', 'O'): 1, ('H2', 'O'): 1}\n",
    "        nx.draw_networkx_edge_labels(G, pos, edge_labels=edge_labels)\n",
    "\n",
    "    def _print_matrix(self, name, matrix):\n",
    "        print(name)\n",
    "        for row in matrix:\n",
    "            print(\" \".join(str(element) for element in row)) #join method works with any iterable, including generator\n",
    "        print()\n",
    "    \n",
    "    def __str__(self):\n",
    "        print(f'Graph Attributes: {self._graph}')\n",
    "        self._print_matrix(\"Adjacency Matrix:\", self._adj)\n",
    "        self._print_matrix(\"Node Feature Matrix:\", self._node)\n",
    "        self._print_matrix(\"Edge Feature Matrix:\", self._edge)\n",
    "\n",
    "        connections = [] #printing connection of every node\n",
    "        for node1, i in self._node_indices.items():\n",
    "            for node2, j in self._node_indices.items():\n",
    "                ij_connection = self._adj[i, j]\n",
    "                if self.is_connection(i, j):\n",
    "                    connections.append(f\"{node1} -- {node2}, Bond Order: {ij_connection}\")\n",
    "        return \"\\n\".join(connections)"
   ]
  },
  {
   "cell_type": "code",
   "execution_count": 195,
   "metadata": {},
   "outputs": [
    {
     "name": "stdout",
     "output_type": "stream",
     "text": [
      "Graph Attributes: {'name': 'H2O'}\n",
      "Adjacency Matrix:\n",
      "0.0 1.0 0.0 0.0\n",
      "1.0 0.0 1.0 0.0\n",
      "0.0 1.0 0.0 0.0\n",
      "0.0 0.0 0.0 0.0\n",
      "\n",
      "Node Feature Matrix:\n",
      "0.0 1.0 0.0 0.0\n",
      "0.0 0.0 1.0 4.0\n",
      "0.0 1.0 0.0 0.0\n",
      "0.0 0.0 0.0 0.0\n",
      "\n",
      "Edge Feature Matrix:\n",
      "1.0\n",
      "1.0\n",
      "1.0\n",
      "1.0\n",
      "0.0\n",
      "0.0\n",
      "0.0\n",
      "0.0\n",
      "\n",
      "H1 -- O, Bond Order: 1.0\n",
      "O -- H1, Bond Order: 1.0\n",
      "O -- H2, Bond Order: 1.0\n",
      "H2 -- O, Bond Order: 1.0\n"
     ]
    }
   ],
   "source": [
    "graph = GraphMS(max_nodes = 4, max_edges = 8, name=\"H2O\")\n",
    "\n",
    "\n",
    "graph.add_node(dict(label = 'H1', atom = 'H', non_bonding_valence = 0))\n",
    "graph.add_node(dict(label = 'O', atom = 'O', non_bonding_valence = 4))\n",
    "graph.add_node(dict(label = 'H2', atom = 'H', non_bonding_valence = 0))\n",
    "\n",
    "try:\n",
    "    graph.add_edge('H1', 'O', dict(bond_order=1)) #or {'bond_order': 1}\n",
    "    graph.add_edge('H2', 'O', dict(bond_order=1))\n",
    "except ValueError as e:\n",
    "    print(e)\n",
    "\n",
    "print(graph)"
   ]
  },
  {
   "cell_type": "code",
   "execution_count": 47,
   "metadata": {},
   "outputs": [
    {
     "data": {
      "image/png": "[encoded data removed]",
      "text/plain": [
       "<Figure size 600x600 with 1 Axes>"
      ]
     },
     "metadata": {},
     "output_type": "display_data"
    }
   ],
   "source": [
    "graph.visualize()"
   ]
  },
  {
   "cell_type": "markdown",
   "metadata": {},
   "source": [
    "### __Dynamic Matrix Implementation__"
   ]
  },
  {
   "cell_type": "code",
   "execution_count": 54,
   "metadata": {},
   "outputs": [],
   "source": [
    "class GraphMD: # Graph Matrix Dynamic\n",
    "    class Node:\n",
    "        ATOM_TYPES = ['C', 'H', 'O'] # Carbon, Hydrogen, Oxygen\n",
    "        def __init__(self, label, atom_type, non_bonding_valence, encoder):\n",
    "            self.label = label\n",
    "            self.atom_type = atom_type\n",
    "            self.non_bonding_valence = non_bonding_valence\n",
    "            self.encoder = encoder\n",
    "            self.features = None #[one_hot_atom_type   non_bonding]; Feature matrices can be created now once the graph is complete\n",
    "            \n",
    "        def create_feature_vector(self): \n",
    "            one_hot_atom = self.encoder.transform(self.atom_type)\n",
    "            self.features = np.append(one_hot_atom, self.non_bonding_valence) #combines the two into single array\n",
    "\n",
    "    class Edge:\n",
    "        def __init__(self, node1, node2, edge_features):\n",
    "            self.node1 = node1\n",
    "            self.node2 = node2\n",
    "            self.features_dict = edge_features\n",
    "            self.features = None\n",
    "\n",
    "        def create_feature_vector(self):\n",
    "            self.features = np.array(list(self.features_dict.values())) #[bond_order]\n",
    "\n",
    "    def __init__(self, max_nodes=6, max_edges=12, **global_attributes): #** in function definition -> it packs keyword arguments into a dictionary\n",
    "        self._max_nodes = max_nodes\n",
    "        self._max_edges = max_edges\n",
    "        self._adj = np.zeros((max_nodes, max_nodes))\n",
    "        self._nodes = {} #way to access all the node objects\n",
    "        self._edges = [] #list of edge objects\n",
    "        self.encoder = CustomOneHotEncoder()\n",
    "        self._graph = global_attributes\n",
    "    \n",
    "    def add_node(self, node_attributes):\n",
    "        if not self._nodes: #if no nodes in graph\n",
    "            self.encoder.fit(GraphMD.Node.ATOM_TYPES) #get categories and indices during graph creation\n",
    "\n",
    "        if len(self._nodes) < self._max_nodes:\n",
    "            node = GraphMD.Node(node_attributes['label'], node_attributes['atom'], node_attributes['non_bonding_valence'], self.encoder)\n",
    "            node.create_feature_vector()\n",
    "            self._nodes[node.label] = node #add node to dict\n",
    "        else:\n",
    "            raise ValueError(\"Not enough node space allocated.\")\n",
    "    \n",
    "    def add_edge(self, node1_label, node2_label, **edge_features):\n",
    "        if node1_label in self._nodes and node2_label in self._nodes:\n",
    "            i, j = list(self._nodes.keys()).index(node1_label), list(self._nodes.keys()).index(node2_label) #indices for _adj\n",
    "\n",
    "            #Add edges to adjacency list\n",
    "            self._adj[i, j] = 1\n",
    "            self._adj[j, i] = 1\n",
    "        \n",
    "            #Create features/edge objects\n",
    "            edge = GraphMD.Edge(node1_label, node2_label, edge_features) \n",
    "            edge.create_feature_vector()\n",
    "            reverse_edge = GraphMD.Edge(node2_label, node1_label, edge_features)\n",
    "            reverse_edge.create_feature_vector()\n",
    "\n",
    "            self._edges.append(edge)\n",
    "            self._edges.append(reverse_edge)\n",
    "        else:\n",
    "            raise ValueError(\"One or both nodes missing.\")\n",
    "    \n",
    "    def is_connection(self, i, j):\n",
    "        return self._adj[i, j] == 1\n",
    "    \n",
    "    def to_nx(self):\n",
    "        G = nx.Graph()\n",
    "        for node_label in self._nodes:\n",
    "            G.add_node(node_label)\n",
    "        \n",
    "        for edge in self._edges:\n",
    "            G.add_edge(edge.node1, edge.node2, **edge.features_dict) #passing bond_order=1; #** unpacks in function call\n",
    "        \n",
    "        return G\n",
    "    \n",
    "    def visualize(self):\n",
    "        G = self.to_nx()\n",
    "        pos = nx.spring_layout(G)\n",
    "        edges = G.edges(data=True)\n",
    "        bond_orders = [attribute['bond_order'] for node, node2, attribute in edges]\n",
    "        \n",
    "        plt.figure(figsize=(6, 6))\n",
    "        nx.draw(G, pos, with_labels=True, width=bond_orders, node_color='#ff91af', edge_color='pink', font_size=9, node_size=2000)\n",
    "        edge_labels = nx.get_edge_attributes(G, 'bond_order')\n",
    "        nx.draw_networkx_edge_labels(G, pos, edge_labels=edge_labels)\n",
    "    \n",
    "    def _print_matrix(self, name, matrix):\n",
    "        print(name)\n",
    "        for row in matrix:\n",
    "            print(\" \".join(str(element) for element in row))\n",
    "        print()\n",
    "    \n",
    "    def __str__(self):\n",
    "        print(f'Graph Attributes: {self._graph}')\n",
    "        self._print_matrix(\"Adjacency Matrix:\", self._adj)\n",
    "        node_features = np.array([node.features for node in self._nodes.values()]) #creating the node feature matrix by combining all node feature vectors\n",
    "        self._print_matrix(\"Node Feature Matrix:\", node_features)\n",
    "        \n",
    "        #Create and print edge feature matrix\n",
    "        num_edge_features = len(self._edges[0].features)\n",
    "        edge_features = np.zeros((len(self._edges), num_edge_features))\n",
    "        for idx, edge in enumerate(self._edges):\n",
    "            edge_features[idx] = edge.features #replace feature rows with actual features from dict\n",
    "        self._print_matrix(\"Edge Feature Matrix:\", edge_features)\n",
    "        \n",
    "        connections = []\n",
    "        for edge in self._edges:\n",
    "            connections.append(f\"{edge.node1} -- {edge.node2}, Bond Order: {edge.features_dict['bond_order']}\")\n",
    "        return \"\\n\".join(connections)"
   ]
  },
  {
   "cell_type": "code",
   "execution_count": 55,
   "metadata": {},
   "outputs": [
    {
     "name": "stdout",
     "output_type": "stream",
     "text": [
      "Graph Attributes: {'name': 'H2O'}\n",
      "Adjacency Matrix:\n",
      "0.0 1.0 0.0\n",
      "1.0 0.0 1.0\n",
      "0.0 1.0 0.0\n",
      "\n",
      "Node Feature Matrix:\n",
      "0.0 1.0 0.0 0.0\n",
      "0.0 0.0 1.0 4.0\n",
      "0.0 1.0 0.0 0.0\n",
      "\n",
      "Edge Feature Matrix:\n",
      "1.0\n",
      "1.0\n",
      "1.0\n",
      "1.0\n",
      "\n",
      "H1 -- O, Bond Order: 1\n",
      "O -- H1, Bond Order: 1\n",
      "H2 -- O, Bond Order: 1\n",
      "O -- H2, Bond Order: 1\n"
     ]
    }
   ],
   "source": [
    "water = GraphMD(max_nodes = 3, max_edges = 6, name=\"H2O\")\n",
    "water.add_node({'label': 'H1', 'atom': 'H', 'non_bonding_valence': 0})\n",
    "water.add_node({'label': 'O', 'atom': 'O', 'non_bonding_valence': 4})\n",
    "water.add_node({'label': 'H2', 'atom': 'H', 'non_bonding_valence': 0})\n",
    "water.add_edge('H1', 'O', bond_order=1)\n",
    "water.add_edge('H2', 'O', bond_order=1)\n",
    "\n",
    "print(water)"
   ]
  },
  {
   "cell_type": "code",
   "execution_count": 50,
   "metadata": {},
   "outputs": [
    {
     "data": {
      "image/png": "[encoded data removed]",
      "text/plain": [
       "<Figure size 600x600 with 1 Axes>"
      ]
     },
     "metadata": {},
     "output_type": "display_data"
    }
   ],
   "source": [
    "water.visualize()"
   ]
  },
  {
   "cell_type": "markdown",
   "metadata": {},
   "source": [
    "### __Visualizing the Graph__"
   ]
  },
  {
   "cell_type": "code",
   "execution_count": 196,
   "metadata": {},
   "outputs": [
    {
     "data": {
      "image/png": "[encoded data removed]",
      "text/plain": [
       "<Figure size 600x600 with 1 Axes>"
      ]
     },
     "metadata": {},
     "output_type": "display_data"
    }
   ],
   "source": [
    "graph.visualize()"
   ]
  },
  {
   "cell_type": "markdown",
   "metadata": {},
   "source": [
    "### __Dynamic Matrix Implementation__"
   ]
  },
  {
   "cell_type": "code",
   "execution_count": 10,
   "metadata": {},
   "outputs": [],
   "source": [
    "class GraphM:\n",
    "    def __init__(self, num_nodes = 5):\n",
    "        self._num_nodes = num_nodes\n",
    "        self._adj_matrix = np.zeros((num_nodes, num_nodes))\n",
    "        self._node_features = np.zeros((num_nodes, num_nodes))\n",
    "        self._edge_features = {} #node_label: identifier/index of adj matrix\n",
    "        self._index_counter = 0\n",
    "\n",
    "    def add_node(self, node_label):\n",
    "        if self._index_counter < self._num_nodes: #nth node is n-1 index\n",
    "            self._node_indices[node_label] = self._index_counter # {A: 0, B: 1...}\n",
    "            self._index_counter += 1\n",
    "        else:\n",
    "            print(\"Not enough space allocated.\")\n",
    "\n",
    "    def add_edge(self, node1, node2, weight):\n",
    "        \n",
    "        if node1 not in self._node_indices:\n",
    "            self.add_node(node1)\n",
    "        if node2 not in self._node_indices:\n",
    "            self.add_node(node2)\n",
    "        i, j = self._node_indices[node1], self._node_indices[node2]\n",
    "        self._adj_matrix[i, j] = weight\n",
    "        self._adj_matrix[j, i] = weight  #Edge goes both ways for undirected\n",
    "\n",
    "    @property\n",
    "    def display_matrix(self):\n",
    "        return self._adj_matrix\n",
    "\n",
    "    def is_connection(self, i, j):\n",
    "        return self._adj_matrix[i, j] != 0\n",
    "    \n",
    "    def to_nx(self):\n",
    "        G = nx.Graph()\n",
    "        \n",
    "        for node_label in self._node_indices: #accesses keys without .items()\n",
    "            G.add_node(node_label) #G is using nx methods; adjacency list by default\n",
    "\n",
    "        for node1, i in self._node_indices.items():\n",
    "            for node2, j in self._node_indices.items():\n",
    "                weight = self._adj_matrix[i, j]\n",
    "                if self.is_connection(i,j):\n",
    "                    G.add_edge(node1, node2, weight=weight) #keyword argument added to attribute dict\n",
    "        \n",
    "        return G\n",
    "    \n",
    "    def visualize(self):\n",
    "        G = self.to_nx()\n",
    "        pos = nx.spring_layout(G) #computes positions of the nodes on the graph so theres as few edge crossings possible and edge are around same length; pos = {label: [x,y], ...}\n",
    "\n",
    "        edges = G.edges(data=True) #[(A, B, {edgeattribute1: 2}), ...]; can get attributes with methods that go through dicts in each tuple\n",
    "        weights = [attribute['weight'] for node1, node2, attribute in edges] #list of the weights\n",
    "\n",
    "        plt.figure(figsize=(6,6))\n",
    "        nx.draw(G, pos, with_labels=True, width = weights, node_color='#ff91af', edge_color='pink', font_size = 9, node_size = 2000) \n",
    "        \n",
    "        edge_labels = nx.get_edge_attributes(G, 'weight') #{(A,B): weight}\n",
    "        nx.draw_networkx_edge_labels(G, pos, edge_labels=edge_labels)\n",
    "    \n",
    "    def __str__(self):\n",
    "        print(\"\")\n",
    "        connections = [] #printing connection of every node\n",
    "        for node1, i in self._node_indices.items():\n",
    "            for node2, j in self._node_indices.items():\n",
    "                ij_connection = self._adj_matrix[i, j]\n",
    "                if self.is_connection(i, j):\n",
    "                    connections.append(f\"{node1}--{node2}, Weight: {ij_connection}\")\n",
    "        return \"\\n\".join(connections)"
   ]
  },
  {
   "cell_type": "markdown",
   "metadata": {},
   "source": [
    "### __Dictionary Implementation__"
   ]
  },
  {
   "cell_type": "code",
   "execution_count": 294,
   "metadata": {},
   "outputs": [],
   "source": [
    "'''Weight of edge stored in the adjacency matrix. Attempting to mimic MUTAG.'''\n",
    "\n",
    "class GraphM:\n",
    "    def __init__(self, num_nodes = 5):\n",
    "        self._num_nodes = num_nodes\n",
    "        self._adj_matrix = np.zeros((num_nodes, num_nodes))\n",
    "        self._node_indices = {} #node_label: identifier/index of adj matrix\n",
    "        self._index_counter = 0\n",
    "\n",
    "    def add_node(self, node_label):\n",
    "        if self._index_counter < self._num_nodes: #nth node is n-1 index\n",
    "            self._node_indices[node_label] = self._index_counter # {A: 0, B: 1...}\n",
    "            self._index_counter += 1\n",
    "        else:\n",
    "            print(\"Not enough space allocated.\")\n",
    "\n",
    "    def add_edge(self, node1, node2, weight):\n",
    "        \n",
    "        if node1 not in self._node_indices:\n",
    "            self.add_node(node1)\n",
    "        if node2 not in self._node_indices:\n",
    "            self.add_node(node2)\n",
    "        i, j = self._node_indices[node1], self._node_indices[node2]\n",
    "        self._adj_matrix[i, j] = weight\n",
    "        self._adj_matrix[j, i] = weight  #Edge goes both ways for undirected\n",
    "\n",
    "    @property\n",
    "    def display_matrix(self):\n",
    "        return self._adj_matrix\n",
    "\n",
    "    def is_connection(self, i, j):\n",
    "        return self._adj_matrix[i, j] != 0\n",
    "    \n",
    "    def to_nx(self):\n",
    "        G = nx.Graph()\n",
    "        \n",
    "        for node_label in self._node_indices: #accesses keys without .items()\n",
    "            G.add_node(node_label) #G is using nx methods; adjacency list by default\n",
    "\n",
    "        for node1, i in self._node_indices.items():\n",
    "            for node2, j in self._node_indices.items():\n",
    "                weight = self._adj_matrix[i, j]\n",
    "                if self.is_connection(i,j):\n",
    "                    G.add_edge(node1, node2, weight=weight) #keyword argument added to attribute dict\n",
    "        \n",
    "        return G\n",
    "    \n",
    "    def visualize(self):\n",
    "        G = self.to_nx()\n",
    "        pos = nx.spring_layout(G) #computes positions of the nodes on the graph so theres as few edge crossings possible and edge are around same length; pos = {label: [x,y], ...}\n",
    "\n",
    "        edges = G.edges(data=True) #[(A, B, {edgeattribute1: 2}), ...]; can get attributes with methods that go through dicts in each tuple\n",
    "        weights = [attribute['weight'] for node1, node2, attribute in edges] #list of the weights\n",
    "\n",
    "        plt.figure(figsize=(6,6))\n",
    "        nx.draw(G, pos, with_labels=True, width = weights, node_color='#ff91af', edge_color='pink', font_size = 9, node_size = 2000) \n",
    "        \n",
    "        edge_labels = nx.get_edge_attributes(G, 'weight') #{(A,B): weight}\n",
    "        nx.draw_networkx_edge_labels(G, pos, edge_labels=edge_labels)\n",
    "    \n",
    "    def __str__(self):\n",
    "        print(\"\")\n",
    "        connections = [] #printing connection of every node\n",
    "        for node1, i in self._node_indices.items():\n",
    "            for node2, j in self._node_indices.items():\n",
    "                ij_connection = self._adj_matrix[i, j]\n",
    "                if self.is_connection(i, j):\n",
    "                    connections.append(f\"{node1}--{node2}, Weight: {ij_connection}\")\n",
    "        return \"\\n\".join(connections)"
   ]
  },
  {
   "cell_type": "markdown",
   "metadata": {},
   "source": [
    "### __Instantiating the Graph__"
   ]
  },
  {
   "cell_type": "code",
   "execution_count": 295,
   "metadata": {},
   "outputs": [
    {
     "name": "stdout",
     "output_type": "stream",
     "text": [
      "[[0. 1. 0. 0. 0.]\n",
      " [1. 0. 1. 0. 0.]\n",
      " [0. 1. 0. 0. 0.]\n",
      " [0. 0. 0. 0. 0.]\n",
      " [0. 0. 0. 0. 0.]]\n",
      "\n",
      "H1--O, Weight: 1.0\n",
      "O--H1, Weight: 1.0\n",
      "O--H2, Weight: 1.0\n",
      "H2--O, Weight: 1.0\n"
     ]
    }
   ],
   "source": [
    "graph = GraphM()\n",
    "\n",
    "graph.add_edge('H1', 'O', 1)\n",
    "graph.add_edge('H2', 'O', 1) \n",
    "\n",
    "print(graph._adj_matrix)\n",
    "print(graph)"
   ]
  },
  {
   "cell_type": "markdown",
   "metadata": {},
   "source": [
    "### __Visualizing the Graph__"
   ]
  },
  {
   "cell_type": "code",
   "execution_count": 296,
   "metadata": {},
   "outputs": [
    {
     "data": {
      "image/png": "[encoded data removed]",
      "text/plain": [
       "<Figure size 600x600 with 1 Axes>"
      ]
     },
     "metadata": {},
     "output_type": "display_data"
    }
   ],
   "source": [
    "graph.visualize()"
   ]
  }
 ],
 "metadata": {
  "kernelspec": {
   "display_name": "myenv",
   "language": "python",
   "name": "python3"
  },
  "language_info": {
   "codemirror_mode": {
    "name": "ipython",
    "version": 3
   },
   "file_extension": ".py",
   "mimetype": "text/x-python",
   "name": "python",
   "nbconvert_exporter": "python",
   "pygments_lexer": "ipython3",
   "version": "3.10.14"
  }
 },
 "nbformat": 4,
 "nbformat_minor": 2
}
