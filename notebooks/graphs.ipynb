{
 "cells": [
  {
   "cell_type": "markdown",
   "metadata": {},
   "source": [
    "<center><h1><b><u>Analysis of Graphs</u></b></h1></center>"
   ]
  },
  {
   "cell_type": "markdown",
   "metadata": {},
   "source": [
    "## __Importing Libraries, Classes, and Functions__"
   ]
  },
  {
   "cell_type": "code",
   "execution_count": 62,
   "metadata": {},
   "outputs": [],
   "source": [
    "import numpy as np\n",
    "import matplotlib.pyplot as plt\n",
    "import networkx as nx #focuses on network analysis and graph theory; can create/visualize graphs"
   ]
  },
  {
   "cell_type": "markdown",
   "metadata": {},
   "source": [
    "## __Undirected Weighted Graph Implementation Using Adjacency Matrix__"
   ]
  },
  {
   "cell_type": "markdown",
   "metadata": {},
   "source": [
    "### __Definition__"
   ]
  },
  {
   "cell_type": "code",
   "execution_count": 134,
   "metadata": {},
   "outputs": [],
   "source": [
    "'''Weight of edge stored in the adjacency matrix. Attempting to mimic MUTAG.'''\n",
    "\n",
    "class WeightedGraph:\n",
    "    def __init__(self, num_nodes = 5):\n",
    "        self._num_nodes = num_nodes\n",
    "        self._adj_matrix = np.zeros((num_nodes, num_nodes))\n",
    "        self._node_indices = {} #node_label: identifier/index of adj matrix\n",
    "        self._index_counter = 0\n",
    "\n",
    "    def add_node(self, node_label):\n",
    "        if self._index_counter < self._num_nodes:\n",
    "            self._node_indices[node_label] = self._index_counter\n",
    "            self._index_counter += 1\n",
    "        else:\n",
    "            print(\"Not enough space allocated.\")\n",
    "\n",
    "    def add_edge(self, node1, node2, weight):\n",
    "        if node1 in self._node_indices and node2 in self._node_indices:\n",
    "            i, j = self._node_indices[node1], self._node_indices[node2]\n",
    "            self._adj_matrix[i, j] = weight\n",
    "            self._adj_matrix[j, i] = weight  #Edge goes both ways for undirected\n",
    "        else:\n",
    "            print(\"One or both nodes missing.\")\n",
    "\n",
    "    @property\n",
    "    def display_matrix(self):\n",
    "        return self._adj_matrix\n",
    "\n",
    "    def is_connection(self, i, j):\n",
    "        return self._adj_matrix[i, j] != 0\n",
    "    \n",
    "    def to_nx(self):\n",
    "        G = nx.Graph()\n",
    "        \n",
    "        for node_label in self._node_indices:\n",
    "            G.add_node(node_label) #G is using nx methods; adjacency list by default; e.g. {B: {A: {weight: 1}, C: {weight: 2}}\n",
    "\n",
    "        for node1, i in self._node_indices.items():\n",
    "            for node2, j in self._node_indices.items():\n",
    "                weight = self._adj_matrix[i, j]\n",
    "                if self.is_connection(i,j):\n",
    "                    G.add_edge(node1, node2, weight=weight)\n",
    "        \n",
    "        return G\n",
    "    \n",
    "    def visualize(self):\n",
    "        G = self.to_nx()\n",
    "        pos = nx.spring_layout(G) #computes positions of the nodes on the graph so theres as few edge crossings possible and edge are around same length; pos = {label: [x,y], ...}\n",
    "\n",
    "        edges = G.edges(data=True) #[(A, B, {edgeattribute1: 2}), ...]\n",
    "        weights = [attribute['weight'] for _, _, attribute in edges] #list of the weights\n",
    "\n",
    "        plt.figure(figsize=(4,4))\n",
    "        nx.draw(G, pos, with_labels=True, width = weights, node_color='lightblue', font_size = 10, node_size = 800) \n",
    "        \n",
    "        edge_labels = nx.get_edge_attributes(G, 'weight') #dictionary where key is tuple for source and dest and value is the attribute (weight)\n",
    "        nx.draw_networkx_edge_labels(G, pos, edge_labels=edge_labels)\n",
    "    \n",
    "    def __str__(self):\n",
    "        print(\"\")\n",
    "        connections = [] #printing connection of every node\n",
    "        for node1, i in self._node_indices.items():\n",
    "            for node2, j in self._node_indices.items():\n",
    "                ij_connection = self._adj_matrix[i, j]\n",
    "                if self.is_connection(i, j):\n",
    "                    connections.append(f\"{node1}--{node2}, Weight: {ij_connection}\")\n",
    "        return \"\\n\".join(connections)"
   ]
  },
  {
   "cell_type": "markdown",
   "metadata": {},
   "source": [
    "### __Instantiating the Graph__"
   ]
  },
  {
   "cell_type": "code",
   "execution_count": 135,
   "metadata": {},
   "outputs": [
    {
     "name": "stdout",
     "output_type": "stream",
     "text": [
      "[[0. 0. 2. 0. 0.]\n",
      " [0. 0. 2. 0. 0.]\n",
      " [2. 2. 0. 0. 0.]\n",
      " [0. 0. 0. 0. 0.]\n",
      " [0. 0. 0. 0. 0.]]\n",
      "\n",
      "H1--O, Weight: 2.0\n",
      "H2--O, Weight: 2.0\n",
      "O--H1, Weight: 2.0\n",
      "O--H2, Weight: 2.0\n"
     ]
    }
   ],
   "source": [
    "graph = WeightedGraph()\n",
    "\n",
    "graph.add_node('H1')\n",
    "graph.add_node('H2')\n",
    "graph.add_node('O')\n",
    "\n",
    "graph.add_edge('H1', 'O', 2)\n",
    "graph.add_edge('H2', 'O', 2) #double bond\n",
    "\n",
    "print(graph._adj_matrix)\n",
    "print(graph)"
   ]
  },
  {
   "cell_type": "markdown",
   "metadata": {},
   "source": [
    "### __Visualizing the Graph__"
   ]
  },
  {
   "cell_type": "code",
   "execution_count": 136,
   "metadata": {},
   "outputs": [
    {
     "data": {
      "image/png": "[encoded data removed]",
      "text/plain": [
       "<Figure size 400x400 with 1 Axes>"
      ]
     },
     "metadata": {},
     "output_type": "display_data"
    }
   ],
   "source": [
    "graph.visualize()"
   ]
  }
 ],
 "metadata": {
  "kernelspec": {
   "display_name": "myenv",
   "language": "python",
   "name": "python3"
  },
  "language_info": {
   "codemirror_mode": {
    "name": "ipython",
    "version": 3
   },
   "file_extension": ".py",
   "mimetype": "text/x-python",
   "name": "python",
   "nbconvert_exporter": "python",
   "pygments_lexer": "ipython3",
   "version": "3.10.14"
  }
 },
 "nbformat": 4,
 "nbformat_minor": 2
}
