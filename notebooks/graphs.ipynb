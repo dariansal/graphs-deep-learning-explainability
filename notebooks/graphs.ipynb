{
 "cells": [
  {
   "cell_type": "markdown",
   "metadata": {},
   "source": [
    "<center><h1><b><u>Analysis of Graphs</u></b></h1></center>"
   ]
  },
  {
   "cell_type": "markdown",
   "metadata": {},
   "source": [
    "## __Importing Libraries, Classes, and Functions__"
   ]
  },
  {
   "cell_type": "code",
   "execution_count": 1,
   "metadata": {},
   "outputs": [],
   "source": [
    "import numpy as np"
   ]
  },
  {
   "cell_type": "markdown",
   "metadata": {},
   "source": [
    "## __Undirected Weighted Graph Implementation Using Adjacency Matrix__"
   ]
  },
  {
   "cell_type": "code",
   "execution_count": 2,
   "metadata": {},
   "outputs": [],
   "source": [
    "'''Weight of edge stored in the adjacency matrix. Attempting to mimic MUTAG.'''\n",
    "\n",
    "class WeightedGraph:\n",
    "    def __init__(self, num_nodes = 5):\n",
    "        self._num_nodes = num_nodes\n",
    "        self._adj_matrix = np.zeros((num_nodes, num_nodes))\n",
    "        self._node_indices = {} #node_label: identifier/index of adj matrix\n",
    "        self._index_counter = 0\n",
    "\n",
    "    def add_node(self, node_label):\n",
    "        if self._index_counter < self._num_nodes:\n",
    "            self._node_indices[node_label] = self._index_counter\n",
    "            self._index_counter += 1\n",
    "        else:\n",
    "            print(\"Not enough space allocated.\")\n",
    "\n",
    "    def add_edge(self, node1, node2, weight):\n",
    "        if node1 in self._node_indices and node2 in self._node_indices:\n",
    "            i, j = self._node_indices[node1], self._node_indices[node2]\n",
    "            self._adj_matrix[i, j] = weight\n",
    "            self._adj_matrix[j, i] = weight  #Edge goes both ways for undirected\n",
    "        else:\n",
    "            print(\"One or both nodes not found in the graph.\")\n",
    "\n",
    "    @property\n",
    "    def display_matrix(self):\n",
    "        return self._adj_matrix\n",
    "\n",
    "    def is_connection(self, i, j):\n",
    "        return self._adj_matrix[i, j] != 0\n",
    "    \n",
    "    def __str__(self):\n",
    "        print(\"\")\n",
    "        connections = [] #printing connection of every node\n",
    "        for node1, i in self._node_indices.items():\n",
    "            for node2, j in self._node_indices.items():\n",
    "                ij_connection = self._adj_matrix[i, j]\n",
    "                if self.is_connection(i, j):\n",
    "                    connections.append(f\"{node1}--{node2}, Weight: {ij_connection}\")\n",
    "        return \"\\n\".join(connections)\n",
    "    \n"
   ]
  },
  {
   "cell_type": "code",
   "execution_count": 3,
   "metadata": {},
   "outputs": [
    {
     "name": "stdout",
     "output_type": "stream",
     "text": [
      "[[0. 0. 2. 0. 0.]\n",
      " [0. 0. 2. 0. 0.]\n",
      " [2. 2. 0. 0. 0.]\n",
      " [0. 0. 0. 0. 0.]\n",
      " [0. 0. 0. 0. 0.]]\n",
      "\n",
      "H1--O, Weight: 2.0\n",
      "H2--O, Weight: 2.0\n",
      "O--H1, Weight: 2.0\n",
      "O--H2, Weight: 2.0\n"
     ]
    }
   ],
   "source": [
    "graph = WeightedGraph()\n",
    "\n",
    "graph.add_node('H1')\n",
    "graph.add_node('H2')\n",
    "graph.add_node('O')\n",
    "\n",
    "graph.add_edge('H1', 'O', 2)\n",
    "graph.add_edge('H2', 'O', 2) #double bond\n",
    "\n",
    "print(graph._adj_matrix)\n",
    "print(graph)"
   ]
  }
 ],
 "metadata": {
  "kernelspec": {
   "display_name": "myenv",
   "language": "python",
   "name": "python3"
  },
  "language_info": {
   "codemirror_mode": {
    "name": "ipython",
    "version": 3
   },
   "file_extension": ".py",
   "mimetype": "text/x-python",
   "name": "python",
   "nbconvert_exporter": "python",
   "pygments_lexer": "ipython3",
   "version": "3.10.14"
  }
 },
 "nbformat": 4,
 "nbformat_minor": 2
}
