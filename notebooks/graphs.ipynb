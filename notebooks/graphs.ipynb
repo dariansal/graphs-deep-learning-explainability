{
 "cells": [
  {
   "cell_type": "markdown",
   "metadata": {},
   "source": [
    "<center><h1><b><u>Analysis of Graphs</u></b></h1></center>"
   ]
  },
  {
   "cell_type": "markdown",
   "metadata": {},
   "source": [
    "## __Importing Libraries, Classes, and Functions__"
   ]
  },
  {
   "cell_type": "code",
   "execution_count": 289,
   "metadata": {},
   "outputs": [],
   "source": [
    "import numpy as np\n",
    "import matplotlib.pyplot as plt\n",
    "import networkx as nx #focuses on network analysis and graph theory; can create/visualize graphs\n",
    "import inspect #for viewing source code"
   ]
  },
  {
   "cell_type": "code",
   "execution_count": 290,
   "metadata": {},
   "outputs": [],
   "source": [
    "#getsource finds file of Code, start and end lines of def and outputs them\n",
    "source_code = inspect.getsource(nx.Graph)\n",
    "\n",
    "#with open('../source.py', 'w') as file:\n",
    "    #file.write(source_code)"
   ]
  },
  {
   "cell_type": "markdown",
   "metadata": {},
   "source": [
    "## __Undirected Graph Implementations__"
   ]
  },
  {
   "cell_type": "markdown",
   "metadata": {},
   "source": [
    "### __Custom One Hot Encoder__"
   ]
  },
  {
   "cell_type": "code",
   "execution_count": 412,
   "metadata": {},
   "outputs": [],
   "source": [
    "class CustomOneHotEncoder:\n",
    "    def __init__(self):\n",
    "        self._categories = None #fit-related attributes not calculated in __init__\n",
    "        self._cat_idx_map = None\n",
    "\n",
    "    def fit(self, categories): #\"learning\" the unique categories\n",
    "        self._categories = sorted(set(categories)) #encoding based lexographically usually; e.g. ['Carbon', 'Hydrogen']\n",
    "        self._col_idx_map = {category: idx for idx, category in enumerate(self._categories)} #Indexing each category for column index {Carbon:0, Hydrogen, 1}\n",
    "    \n",
    "    def transform(self, category):\n",
    "        one_hot = np.zeros(len(self._categories))\n",
    "        one_hot[self._col_idx_map[category]] = 1\n",
    "        return one_hot\n",
    "    \n",
    "    def fit_transform(self, categories):\n",
    "        self.fit(categories)\n",
    "        return [self.transform(category) for category in categories]\n"
   ]
  },
  {
   "cell_type": "code",
   "execution_count": 413,
   "metadata": {},
   "outputs": [
    {
     "name": "stdout",
     "output_type": "stream",
     "text": [
      "[1. 0.]\n"
     ]
    }
   ],
   "source": [
    "categories = ['Carbon', 'Hydrogen']\n",
    "encoder = CustomOneHotEncoder()\n",
    "#encoded_data = encoder.fit_transform(data)\n",
    "encoder.fit(categories)\n",
    "encoded = encoder.transform('Carbon') #needs to be list because transform expects 2D array\n",
    "print(encoded)"
   ]
  },
  {
   "cell_type": "markdown",
   "metadata": {},
   "source": [
    "### __Matrix Implementation__"
   ]
  },
  {
   "cell_type": "code",
   "execution_count": 293,
   "metadata": {},
   "outputs": [],
   "source": [
    "'''Presence of node implicit in matrix representation.'''\n",
    "\n",
    "class GraphM:\n",
    "    def __init__(self, num_nodes = 5):\n",
    "        self._num_nodes = num_nodes\n",
    "        self._adj_matrix = np.zeros((num_nodes, num_nodes))\n",
    "        self._node_features = np.zeros((num_nodes, num_nodes))\n",
    "        self._edge_features = {} #node_label: identifier/index of adj matrix\n",
    "        self._index_counter = 0\n",
    "\n",
    "    def add_node(self, node_label):\n",
    "        if self._index_counter < self._num_nodes: #nth node is n-1 index\n",
    "            self._node_indices[node_label] = self._index_counter # {A: 0, B: 1...}\n",
    "            self._index_counter += 1\n",
    "        else:\n",
    "            print(\"Not enough space allocated.\")\n",
    "\n",
    "    def add_edge(self, node1, node2, weight):\n",
    "        \n",
    "        if node1 not in self._node_indices:\n",
    "            self.add_node(node1)\n",
    "        if node2 not in self._node_indices:\n",
    "            self.add_node(node2)\n",
    "        i, j = self._node_indices[node1], self._node_indices[node2]\n",
    "        self._adj_matrix[i, j] = weight\n",
    "        self._adj_matrix[j, i] = weight  #Edge goes both ways for undirected\n",
    "\n",
    "    @property\n",
    "    def display_matrix(self):\n",
    "        return self._adj_matrix\n",
    "\n",
    "    def is_connection(self, i, j):\n",
    "        return self._adj_matrix[i, j] != 0\n",
    "    \n",
    "    def to_nx(self):\n",
    "        G = nx.Graph()\n",
    "        \n",
    "        for node_label in self._node_indices: #accesses keys without .items()\n",
    "            G.add_node(node_label) #G is using nx methods; adjacency list by default\n",
    "\n",
    "        for node1, i in self._node_indices.items():\n",
    "            for node2, j in self._node_indices.items():\n",
    "                weight = self._adj_matrix[i, j]\n",
    "                if self.is_connection(i,j):\n",
    "                    G.add_edge(node1, node2, weight=weight) #keyword argument added to attribute dict\n",
    "        \n",
    "        return G\n",
    "    \n",
    "    def visualize(self):\n",
    "        G = self.to_nx()\n",
    "        pos = nx.spring_layout(G) #computes positions of the nodes on the graph so theres as few edge crossings possible and edge are around same length; pos = {label: [x,y], ...}\n",
    "\n",
    "        edges = G.edges(data=True) #[(A, B, {edgeattribute1: 2}), ...]; can get attributes with methods that go through dicts in each tuple\n",
    "        weights = [attribute['weight'] for node1, node2, attribute in edges] #list of the weights\n",
    "\n",
    "        plt.figure(figsize=(6,6))\n",
    "        nx.draw(G, pos, with_labels=True, width = weights, node_color='#ff91af', edge_color='pink', font_size = 9, node_size = 2000) \n",
    "        \n",
    "        edge_labels = nx.get_edge_attributes(G, 'weight') #{(A,B): weight}\n",
    "        nx.draw_networkx_edge_labels(G, pos, edge_labels=edge_labels)\n",
    "    \n",
    "    def __str__(self):\n",
    "        print(\"\")\n",
    "        connections = [] #printing connection of every node\n",
    "        for node1, i in self._node_indices.items():\n",
    "            for node2, j in self._node_indices.items():\n",
    "                ij_connection = self._adj_matrix[i, j]\n",
    "                if self.is_connection(i, j):\n",
    "                    connections.append(f\"{node1}--{node2}, Weight: {ij_connection}\")\n",
    "        return \"\\n\".join(connections)"
   ]
  },
  {
   "cell_type": "markdown",
   "metadata": {},
   "source": [
    "### __Dictionary Implementation__"
   ]
  },
  {
   "cell_type": "code",
   "execution_count": 294,
   "metadata": {},
   "outputs": [],
   "source": [
    "'''Weight of edge stored in the adjacency matrix. Attempting to mimic MUTAG.'''\n",
    "\n",
    "class GraphM:\n",
    "    def __init__(self, num_nodes = 5):\n",
    "        self._num_nodes = num_nodes\n",
    "        self._adj_matrix = np.zeros((num_nodes, num_nodes))\n",
    "        self._node_indices = {} #node_label: identifier/index of adj matrix\n",
    "        self._index_counter = 0\n",
    "\n",
    "    def add_node(self, node_label):\n",
    "        if self._index_counter < self._num_nodes: #nth node is n-1 index\n",
    "            self._node_indices[node_label] = self._index_counter # {A: 0, B: 1...}\n",
    "            self._index_counter += 1\n",
    "        else:\n",
    "            print(\"Not enough space allocated.\")\n",
    "\n",
    "    def add_edge(self, node1, node2, weight):\n",
    "        \n",
    "        if node1 not in self._node_indices:\n",
    "            self.add_node(node1)\n",
    "        if node2 not in self._node_indices:\n",
    "            self.add_node(node2)\n",
    "        i, j = self._node_indices[node1], self._node_indices[node2]\n",
    "        self._adj_matrix[i, j] = weight\n",
    "        self._adj_matrix[j, i] = weight  #Edge goes both ways for undirected\n",
    "\n",
    "    @property\n",
    "    def display_matrix(self):\n",
    "        return self._adj_matrix\n",
    "\n",
    "    def is_connection(self, i, j):\n",
    "        return self._adj_matrix[i, j] != 0\n",
    "    \n",
    "    def to_nx(self):\n",
    "        G = nx.Graph()\n",
    "        \n",
    "        for node_label in self._node_indices: #accesses keys without .items()\n",
    "            G.add_node(node_label) #G is using nx methods; adjacency list by default\n",
    "\n",
    "        for node1, i in self._node_indices.items():\n",
    "            for node2, j in self._node_indices.items():\n",
    "                weight = self._adj_matrix[i, j]\n",
    "                if self.is_connection(i,j):\n",
    "                    G.add_edge(node1, node2, weight=weight) #keyword argument added to attribute dict\n",
    "        \n",
    "        return G\n",
    "    \n",
    "    def visualize(self):\n",
    "        G = self.to_nx()\n",
    "        pos = nx.spring_layout(G) #computes positions of the nodes on the graph so theres as few edge crossings possible and edge are around same length; pos = {label: [x,y], ...}\n",
    "\n",
    "        edges = G.edges(data=True) #[(A, B, {edgeattribute1: 2}), ...]; can get attributes with methods that go through dicts in each tuple\n",
    "        weights = [attribute['weight'] for node1, node2, attribute in edges] #list of the weights\n",
    "\n",
    "        plt.figure(figsize=(6,6))\n",
    "        nx.draw(G, pos, with_labels=True, width = weights, node_color='#ff91af', edge_color='pink', font_size = 9, node_size = 2000) \n",
    "        \n",
    "        edge_labels = nx.get_edge_attributes(G, 'weight') #{(A,B): weight}\n",
    "        nx.draw_networkx_edge_labels(G, pos, edge_labels=edge_labels)\n",
    "    \n",
    "    def __str__(self):\n",
    "        print(\"\")\n",
    "        connections = [] #printing connection of every node\n",
    "        for node1, i in self._node_indices.items():\n",
    "            for node2, j in self._node_indices.items():\n",
    "                ij_connection = self._adj_matrix[i, j]\n",
    "                if self.is_connection(i, j):\n",
    "                    connections.append(f\"{node1}--{node2}, Weight: {ij_connection}\")\n",
    "        return \"\\n\".join(connections)"
   ]
  },
  {
   "cell_type": "markdown",
   "metadata": {},
   "source": [
    "### __Instantiating the Graph__"
   ]
  },
  {
   "cell_type": "code",
   "execution_count": 295,
   "metadata": {},
   "outputs": [
    {
     "name": "stdout",
     "output_type": "stream",
     "text": [
      "[[0. 1. 0. 0. 0.]\n",
      " [1. 0. 1. 0. 0.]\n",
      " [0. 1. 0. 0. 0.]\n",
      " [0. 0. 0. 0. 0.]\n",
      " [0. 0. 0. 0. 0.]]\n",
      "\n",
      "H1--O, Weight: 1.0\n",
      "O--H1, Weight: 1.0\n",
      "O--H2, Weight: 1.0\n",
      "H2--O, Weight: 1.0\n"
     ]
    }
   ],
   "source": [
    "graph = GraphM()\n",
    "\n",
    "graph.add_edge('H1', 'O', 1)\n",
    "graph.add_edge('H2', 'O', 1) \n",
    "\n",
    "print(graph._adj_matrix)\n",
    "print(graph)"
   ]
  },
  {
   "cell_type": "markdown",
   "metadata": {},
   "source": [
    "### __Visualizing the Graph__"
   ]
  },
  {
   "cell_type": "code",
   "execution_count": 296,
   "metadata": {},
   "outputs": [
    {
     "data": {
      "image/png": "[encoded data removed]",
      "text/plain": [
       "<Figure size 600x600 with 1 Axes>"
      ]
     },
     "metadata": {},
     "output_type": "display_data"
    }
   ],
   "source": [
    "graph.visualize()"
   ]
  }
 ],
 "metadata": {
  "kernelspec": {
   "display_name": "myenv",
   "language": "python",
   "name": "python3"
  },
  "language_info": {
   "codemirror_mode": {
    "name": "ipython",
    "version": 3
   },
   "file_extension": ".py",
   "mimetype": "text/x-python",
   "name": "python",
   "nbconvert_exporter": "python",
   "pygments_lexer": "ipython3",
   "version": "3.10.14"
  }
 },
 "nbformat": 4,
 "nbformat_minor": 2
}
